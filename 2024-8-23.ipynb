{
 "cells": [
  {
   "cell_type": "markdown",
   "metadata": {},
   "source": [
    "# Problem"
   ]
  },
  {
   "cell_type": "markdown",
   "metadata": {},
   "source": [
    "## Round, Round, Get a Round, I Get a Round"
   ]
  },
  {
   "cell_type": "markdown",
   "metadata": {},
   "source": [
    "_Suppose you have two real numbers, like 3.14 and 2.718. If you round these two numbers and add these rounded values together, you get 3 + 3, or 6. Alternatively, if you add the original two numbers and then round the sum, you still get 6._\n",
    "\n",
    "_But rounding then adding doesn’t always give you the same result as adding then rounding. For example, if the two numbers are 2.4 and 3.4, rounding then adding gives you 5 (i.e., 2 + 3), whereas adding then rounding gives you 6 (i.e., 2.4 + 3.4 = 5.8, which rounds to 6)._\n",
    "\n",
    "_How likely is it that rounding then adding gives you the same result as adding then rounding?_\n",
    "\n",
    "_To be more precise, suppose you randomly, uniformly, and independently pick two real numbers between 0 and 1. What is the probability that rounding the two numbers and then adding gives you the same result as adding the two numbers and then rounding?_"
   ]
  },
  {
   "cell_type": "markdown",
   "metadata": {},
   "source": [
    "# Solution"
   ]
  },
  {
   "cell_type": "markdown",
   "metadata": {},
   "source": [
    "There are a couple of intuitive ways of going about this problem. Here's one that I think will set us up well for the extra credit!\n",
    "\n",
    "Let $X_1$ and $X_2$ be our randomly sampled numbers. Let's first consider the distributions of $Y = round(X_1) + round(X_2)$ and $Z = round(X_1 + X_2)$\n",
    "\n",
    "We want \n",
    "\n",
    "$ \\mathbb{P}(Y=i \\land Z=i) \\text{ for all } i \\in \\{0,1,2\\}$\n",
    "\n",
    "But we can't do something naive like\n",
    "\n",
    "$ \\mathbb{P}(Y=i \\land Z=i) \\neq \\mathbb{P}(Y=i) \\mathbb{P}(Z=i)$\n",
    "\n",
    "Instead let's use some conditional probabilities\n",
    "\n",
    "$ \\mathbb{P}(Y=i \\land Z=i) = \\mathbb{P}(Z=i | Y=i ) \\mathbb{P}(Y=i) $\n",
    "\n",
    "$\\mathbb{P}(Y=i)$ is actually pretty easy to deal with and is simply a binomial distribution of $N$ samples.\n",
    "\n",
    "$\\mathbb{P}(Z=i | Y=i )$ is a bit more complex so let's take it step by step.\n",
    "\n",
    "First, let's consider where both distributions are 0.\n",
    "\n",
    "$\\mathbb{P}(Z=0 | Y=0 )$\n",
    "\n",
    "$\\mathbb{P}(X_1 + X_2<\\frac{1}{2} | Y=0 ) = \\mathbb{P}(X_1 + X_2<\\frac{1}{2} | X_1<\\frac{1}{2} , X_2<\\frac{1}{2} )$\n",
    "\n",
    "Looking at the condition closely, we notice that $X_1$ and $X_2$ are independent and uniformly distributed. In this way, it resembles a convolution of two uniform distributions, this time just over the interval $[0,0.5]$. This is a [well known distribution]((https://math.stackexchange.com/questions/357672/density-of-sum-of-two-independent-uniform-random-variables-on-0-1)) and is simply a triangle distribution.\n",
    "\n",
    "*Triangle Distribution*\n",
    "\n",
    "$\n",
    "X_1 + X_2 = Z' =\n",
    "\\begin{cases}\n",
    "z' & \\text{if } 0<=z'<=1 \\\\\n",
    "2-z' & \\text{if } 1<z'<=2>\n",
    "\\end{cases}\n",
    "$\n",
    "\n",
    "We just need to modify this distribution to account for the fact that we are only considering the case where $X_1$ and $X_2$ are less than 0.5. This is a simple matter of scaling the distribution by 0.5.\n",
    "\n",
    "$\n",
    "X_1 + X_2 = Z' = f(z') =\n",
    "\\begin{cases}\n",
    "4z' & \\text{if } 0<=z'<=0.5 \\\\\n",
    "4-4z' & \\text{if } 0.5<z'<=1>\n",
    "\\end{cases}\n",
    "$\n",
    "\n",
    "We integrate this from 0 to 0.5 to get the probability that $Z'<0.5$\n",
    "\n",
    "$\n",
    "\\int_0^{0.5} 4z' dz' = 2z'^2 |_0^{0.5} = 0.5\n",
    "$\n",
    "\n",
    "For $i=1$, we can use the same logic to get (the factor of 2 comes from the symmetric case where $X_1<0.5$ and $X_2>0.5$)\n",
    "\n",
    "$ 2\\mathbb{P}(\\frac{1}{2}<X_1 + X_2<\\frac{3}{2} | X_1>\\frac{1}{2} , X_2<\\frac{1}{2} )$\n",
    "\n",
    "Again, this is just our triagle distribution, except we need to modify it to account for the fact that our variables are uniform on $X_1=[0.5,1]$ and $X_2=[0,0.5]$. This requires the same scaling of the distribution but also now requires a shift to the right by 0.5.\n",
    "\n",
    "$\\int_{0.5}^{1.5} f(z'-0.5) dz'$\n",
    "\n",
    "Though if we consider the bound and the shift, this is the same as\n",
    "\n",
    "$\\int_{0}^{1} f(z') dz'=1$\n",
    "\n",
    "Finally, for the case where $i=2$, we can observe that its symmetric with the $i=0 case so\n",
    "\n",
    "$\\mathbb{P}(Z=2 | Y=2 ) = 0.5$\n",
    "\n",
    "Now we can put it all together\n",
    "\n",
    "$\\mathbb{P}(Y=i \\land Z=i) = \\mathbb{P}(Z=i | Y=i ) \\mathbb{P}(Y=i) $\n",
    "\n",
    "$\\mathbb{P}(Y=0 \\land Z=0) = \\frac{1}{2} \\cdot \\mathbb{P}(Y=0) = \\frac{1}{2} \\cdot \\mathbb{P}(X_1<\\frac{1}{2} , X_2<\\frac{1}{2}) = \\frac{1}{2} \\cdot \\frac{1}{2} \\cdot \\frac{1}{2} = \\frac{1}{8}$\n",
    "\n",
    "$\\mathbb{P}(Y=1 \\land Z=1) = 1 \\cdot \\mathbb{P}(Y=1) = \\binom{2}{1} \\mathbb{P}(X_1>\\frac{1}{2} , X_2<\\frac{1}{2}) = 2 \\cdot \\frac{1}{2} \\cdot \\frac{1}{2} = \\frac{1}{2}$\n",
    "\n",
    "$\\mathbb{P}(Y=2 \\land Z=2) = 0.5 \\cdot \\mathbb{P}(Y=2) = \\frac{1}{2} \\cdot \\frac{1}{2} \\cdot \\frac{1}{2} = \\frac{1}{8}$\n",
    "\n",
    "Summed together, we get\n",
    "\n",
    "$\\frac{1}{8} + \\frac{1}{2} + \\frac{1}{8} = \\frac{3}{4}$"
   ]
  },
  {
   "cell_type": "markdown",
   "metadata": {},
   "source": [
    "# Extra Credit\n",
    "\n",
    "Analyzing the problem in this way sets us up well for the extra credit. We can now consider the case where we have $N$ samples and we want to find the probability that $Y=Z$. This is a bit more complex but we can use the same logic as above.\n",
    "\n",
    "Now we have\n",
    "\n",
    "$X_1 + X_2 + \\ldots + X_N = Z' = f(z')$\n",
    "\n",
    "This distribution is a convolution of $N$ uniform distributions and if I was a badass, I would derive the distribution here. But that would be that's a bit beyond what I'd like to do for this problem and it is a [well known distribution](https://en.wikipedia.org/wiki/Irwin%E2%80%93Hall_distribution) known as the Irwin-Hall distribution. It's CDF is given by\n",
    "\n",
    "$F(x,n) = \\frac{1}{n!} \\sum_{k=0}^n (-1)^k \\binom{n}{k} (x-k)^n$\n",
    "\n",
    "Of course, this formulation is for the case where $X_i$ are uniform on $[0,1]$. We can modify this to account for the fact that we are only considering the case where the range of $X_i$ is $0.5$ and shifted on intervals of $0.5$. Instead, I opted to do a close examination of the ranges of the integral of our compressed distribution and converted them into the appropriate ranges for the Irwin-Hall distribution. The pattern came out to be\n",
    "\n",
    "$\n",
    "\\begin{align}\n",
    "Y=Z=0 &\\rightarrow [0,1] \\\\\n",
    "Y=Z=1 &\\rightarrow [0,2] \\\\\n",
    "Y=Z=2 &\\rightarrow [1,3] \\\\\n",
    "Y=Z=3 &\\rightarrow [2,4] \\\\\n",
    "&\\cdots \\\\\n",
    "Y=Z=N-1 &\\rightarrow [N-2,N] \\\\\n",
    "Y=Z=N &\\rightarrow [N-1,N]\n",
    "\\end{align}\n",
    "$\n",
    "\n",
    "So we need to calculate the probability\n",
    "\n",
    "$S = \\left( \\dfrac{1}{2} \\right)^N \\left[ 2(F(1) - F(0)) + \\sum_{k=0}^{N-2} \\binom{N}{k} \\left( F(k+2) - F(k) \\right) \\right]$\n",
    "\n",
    "$S = \\left( \\dfrac{1}{2} \\right)^N \\left[ \\frac{2}{N!}+ \\sum_{k=0}^{N-2} \\binom{N}{k} \\left( F(k+2) - F(k) \\right) \\right]$\n",
    "\n",
    "Frankly, after much effort, I couldn't seem to find a way to easily simplify this so this is where I'll leave it! I think this is generated the correct answer!"
   ]
  },
  {
   "cell_type": "code",
   "execution_count": 21,
   "metadata": {},
   "outputs": [
    {
     "name": "stdout",
     "output_type": "stream",
     "text": [
      "1=1.0\n",
      "2=0.75\n",
      "3=0.6666666666666667\n",
      "4=0.5989583333333334\n",
      "5=0.55\n",
      "6=0.5110243055555556\n",
      "7=0.4793650793650793\n",
      "8=0.4529209681919643\n",
      "9=0.4304177689594357\n",
      "10=0.4109626428244185\n",
      "11=0.39392556517556515\n",
      "12=0.37884408454473006\n",
      "13=0.3653708694854528\n",
      "14=0.35323915669918926\n"
     ]
    }
   ],
   "source": [
    "import math\n",
    "\n",
    "def choose(n, k):\n",
    "    return math.factorial(n) / (math.factorial(k) * math.factorial(n-k))\n",
    "\n",
    "def irwinhall_cdf(x, n):\n",
    "    return 1/math.factorial(n) * sum([(-1)**k * math.comb(n,k) * (x-k)**n for k in range(x+1)])\n",
    "\n",
    "def compute_sum(n):\n",
    "    total = irwinhall_cdf(1, n) - irwinhall_cdf(0, n)\n",
    "    total += irwinhall_cdf(n, n) - irwinhall_cdf(n-1, n)\n",
    "    for k in range(0, n-1):\n",
    "        total += choose(n, k+1) * (irwinhall_cdf(k+2, n) - irwinhall_cdf(k, n))\n",
    "    # return (1/2)**n * (2/math.factorial(n) + total)\n",
    "    return (1/2)**n * total\n",
    "\n",
    "for i in range(1, 15):\n",
    "    print(\"{}={}\".format(i, compute_sum(i)))"
   ]
  },
  {
   "cell_type": "markdown",
   "metadata": {},
   "source": []
  }
 ],
 "metadata": {
  "kernelspec": {
   "display_name": "base",
   "language": "python",
   "name": "python3"
  },
  "language_info": {
   "codemirror_mode": {
    "name": "ipython",
    "version": 3
   },
   "file_extension": ".py",
   "mimetype": "text/x-python",
   "name": "python",
   "nbconvert_exporter": "python",
   "pygments_lexer": "ipython3",
   "version": "3.9.12"
  }
 },
 "nbformat": 4,
 "nbformat_minor": 2
}
