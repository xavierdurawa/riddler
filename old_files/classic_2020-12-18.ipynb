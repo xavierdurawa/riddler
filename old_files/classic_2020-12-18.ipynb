{
 "cells": [
  {
   "cell_type": "markdown",
   "metadata": {},
   "source": [
    "# Riddler Classic - [December 18, 2020](https://fivethirtyeight.com/features/can-you-not-flip-your-lid/)"
   ]
  },
  {
   "cell_type": "markdown",
   "metadata": {},
   "source": [
    "## Problem\n",
    "_The Game of Attrition has two players, each of whom starts with a whole number of “power points.” Players take turns “attacking” each other, which involves subtracting their own number of power points from their opponent’s until one of the players is out of points._\n",
    "\n",
    "_For example, suppose Player A (who goes first) starts with 5 points and Player B starts with 7 points. After A’s first attack, A still has 5 points, while B has been reduced to 2 points (i.e., 7 minus 5). Now it’s B’s turn, who reduces A to 5 minus 2, or 3 points. Finally, on A’s second turn, B is reduced from 2 points to nothing (since 2 minus 3 is −1). Despite starting with fewer points, A wins!_\n",
    "\n",
    "_Now suppose A goes first and starts with N points. In terms of N, what is the greatest number of points B can start with so that A will still emerge victorious?_"
   ]
  },
  {
   "cell_type": "markdown",
   "metadata": {},
   "source": [
    "## Solution\n",
    "\n",
    "If this were a math textbook, I'd simply note that this game is played optimally when each play subtracts all of their power points from their opponents.  We then observe that successive subtractions of this nature are simply a fibonacci sequence in reverse. We know that \n",
    "\n",
    "$$\\lim_{n \\to \\inf} \\frac{F_{n+1}}{F_n} = \\phi $$\n",
    "\n",
    "so with a simple hand wave, we know your opponents score can be at most \n",
    "\n",
    "$$\\lfloor \\phi N \\rfloor $$\n",
    "\n",
    "if your starting score is $N$. \n",
    "\n",
    "But this isn't a textbook so I'm going to spell it out a bit more clearly.  First, lets start with our assumptions. In this case, there's only one, namely that each player always subtracts the maximimum possible value from their opponents power points. So Player B's power points will always be reduced by the quantity of Player A's power points. Now from here lets say Player A starts with $N$ points and Player B starts with $cN$ points. Then the game will go on as follows.\n",
    "\n",
    "\n",
    "| Round # | Player A score | Player B score |\n",
    "| --- | --- | --- |\n",
    "| 0 (start) | $N$ | $cN$ |\n",
    "| 1 | $N$ | $(c-1)N$ |\n",
    "| 2 | $(2-c)N$ | $(c-1)N$ |\n",
    "| 3 | $(2-c)N$ | $(2c-3)N$ |\n",
    "| 4 | $(5-3c)N$ | $(2c-3)N$ |\n",
    "| 5 | $(5-3c)N$ | $(5c-8)N$ |\n",
    "| 6 | $(13-8c)N$ | $(5c-8)N$ |\n",
    "| ... |\n",
    "\n",
    "You may already see the fibonacci sequence forming but if not, let's consider the acceptable values for $c$ for a game to progress. Namely, we need to make sure that after each turn, both players' score is greater than 0 (otherwise the game is over). \n",
    "\n",
    "Looking at Round 1, it is necessary that $c>1$. If not, $(c-1) \\leq 0$ and the game would be over with Player A winning.\n",
    "\n",
    "Looking at Round 2, it is necessary that $c<2$. If not, $(2-c) \\leq 0$ and the game would be over with Player B winning.\n",
    "\n",
    "Similarly, looking at Round 3, $c>\\frac{3}{2}$.\n",
    "\n",
    "Round 4: $c<\\frac{5}{3}$\n",
    "\n",
    "Round 5: $c>\\frac{8}{5}$\n",
    "\n",
    "Round 6: $c<\\frac{13}{8}$\n",
    "\n",
    "Now it should be apparent that the restrictions on $c$ alternate between succesive fibonacci ratios. We know that these ratios will tend toward $\\phi = \\frac{1+ \\sqrt{5}}{2}$. So, if the Game of Attrition were played with real number $\\mathbb{R}$ instead of whole numbers $\\mathbb{N}$, the game would go on forever if $c=\\phi$.  Since the game _is_ played with whole numbers and we want Player A to win against the maximal number of Player B power points, we round down from the quantity $\\phi N$. This provides us with the whole number that we need, ensures that Player A will win while also maximizing Player B's starting power points. Thus the maximum number of points Player B can start with while still ensuring a Player A victory is \n",
    "\n",
    "$$\\lfloor \\phi N \\rfloor $$"
   ]
  },
  {
   "cell_type": "markdown",
   "metadata": {},
   "source": [
    "## Check\n",
    "\n",
    "To ensure that this is the case, lets run some computational checks for values of N from 1 to 1000."
   ]
  },
  {
   "cell_type": "code",
   "execution_count": 1,
   "metadata": {},
   "outputs": [
    {
     "name": "stdout",
     "output_type": "stream",
     "text": [
      "all good\n"
     ]
    }
   ],
   "source": [
    "phi = (1 + 5**0.5)/2\n",
    "\n",
    "# Method to run a game. Returns true if Player 1 wins and False otherwise\n",
    "# starting score of Player A is first arguement, and score of Player B is second\n",
    "def game_check(n, m, p1_turn=True):\n",
    "    if m-n <= 0:\n",
    "        return p1_turn\n",
    "    else:\n",
    "        return game_check(m-n, n, not p1_turn)\n",
    "\n",
    "results = []\n",
    "for i in range(1,1000):\n",
    "    num1 = int(i*phi)\n",
    "    for j in reversed(range(i,2*i)):\n",
    "        if game_check(i, j):\n",
    "            num2 = j\n",
    "            break\n",
    "    results.append(num1 == num2)\n",
    "\n",
    "if all(results):\n",
    "    print('all good')\n",
    "else:\n",
    "    print('errors somewhere')  "
   ]
  },
  {
   "cell_type": "markdown",
   "metadata": {},
   "source": [
    "Looks like this works! At least for the $N$ up to $1000$"
   ]
  },
  {
   "cell_type": "code",
   "execution_count": null,
   "metadata": {},
   "outputs": [],
   "source": []
  }
 ],
 "metadata": {
  "kernelspec": {
   "display_name": "Python 3",
   "language": "python",
   "name": "python3"
  },
  "language_info": {
   "codemirror_mode": {
    "name": "ipython",
    "version": 3
   },
   "file_extension": ".py",
   "mimetype": "text/x-python",
   "name": "python",
   "nbconvert_exporter": "python",
   "pygments_lexer": "ipython3",
   "version": "3.8.3"
  }
 },
 "nbformat": 4,
 "nbformat_minor": 2
}
