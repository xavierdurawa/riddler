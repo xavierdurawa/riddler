{
 "cells": [
  {
   "cell_type": "markdown",
   "metadata": {},
   "source": [
    "# [Can You Survive Another Squid Game?](https://thefiddler.substack.com/p/can-you-survive-another-squid-game)\n",
    "## July 21 2023"
   ]
  },
  {
   "cell_type": "markdown",
   "metadata": {},
   "source": [
    "# Problem\n",
    "\n",
    "_This week’s puzzle is an oldie but a goodie, and comes from high school student Meryl Zhang of Plano, Texas, who was named the top math awardee at this year’s Regeneron International Science and Engineering Fair. For her project, Meryl developed novel heuristics for the NP-hard partition problem. Meryl enjoys K-dramas, including Squid Game—a show that has already proven ripe for riddles._\n",
    "\n",
    "_This week, the final 20 players in the Squid Game competition form a circle and are assigned the whole numbers from 1 to 20, progressing in a clockwise direction. First, contestant 2 is eliminated. Then, the contestant two positions clockwise from where 2 was (i.e., contestant 4) is eliminated. Next, the contestant two positions clockwise from them (i.e., contestant 6) is eliminated. The counting continues in this manner, wrapping around the circle, which tightens after each elimination. So after contestant 20 is eliminated, the next contestant to go is 3, who at this point is two positions clockwise from where 20 once stood._\n",
    "\n",
    "_You repeat this process until only one contestant remains as the ultimate winner of the game. What is the winner’s number?_\n",
    "\n",
    "## Solution\n",
    "\n",
    "After tinkering with some more mathematical approaches and not getting anywhere, I decided to see if any patterns would emerge for various numbers of players so I wrote up some code real quick to run the game. Interestingly, the following pattern emerged. \n",
    "\n",
    "| No. Players | Winner |\n",
    "| --- | --- |\n",
    "| 2 | 1\n",
    "| 3 | 3\n",
    "| 4 | 1\n",
    "| 5 | 3\n",
    "| 6 | 5\n",
    "| 7 | 7\n",
    "| 8 | 1\n",
    "| 9 | 3\n",
    "| 10 | 5\n",
    "| 11 | 7\n",
    "| 12 | 9\n",
    "| 13 | 11\n",
    "| 14 | 13\n",
    "| 15 | 15\n",
    "| 16 | 1"
   ]
  },
  {
   "cell_type": "code",
   "execution_count": 11,
   "metadata": {},
   "outputs": [
    {
     "name": "stdout",
     "output_type": "stream",
     "text": [
      "1\n",
      "3\n",
      "1\n",
      "3\n",
      "5\n",
      "7\n",
      "1\n",
      "3\n",
      "5\n",
      "7\n",
      "9\n",
      "11\n",
      "13\n",
      "15\n",
      "1\n",
      "3\n",
      "5\n",
      "7\n",
      "9\n",
      "11\n",
      "13\n",
      "15\n",
      "17\n",
      "19\n",
      "21\n",
      "23\n",
      "25\n",
      "27\n",
      "29\n",
      "31\n",
      "1\n",
      "3\n",
      "5\n",
      "7\n",
      "9\n",
      "11\n",
      "13\n",
      "15\n",
      "17\n",
      "19\n",
      "21\n",
      "23\n",
      "25\n",
      "27\n",
      "29\n",
      "31\n",
      "33\n",
      "35\n",
      "37\n",
      "39\n",
      "41\n",
      "43\n",
      "45\n",
      "47\n",
      "49\n",
      "51\n",
      "53\n",
      "55\n",
      "57\n",
      "59\n",
      "61\n",
      "63\n",
      "1\n",
      "3\n",
      "5\n",
      "7\n",
      "9\n",
      "11\n",
      "13\n"
     ]
    }
   ],
   "source": [
    "class Node(object):\n",
    "    def __init__(self, n:int, next=None, prev=None):\n",
    "        self.n = n\n",
    "        self.next = next\n",
    "        self.prev = prev\n",
    "\n",
    "class Circle(object):\n",
    "    def __init__(self, n:int):\n",
    "        self.num_nodes = n\n",
    "        self.head = Node(1)\n",
    "        self.current_spot = self.head\n",
    "\n",
    "        prev = self.head\n",
    "\n",
    "        for i in range(2,n+1):\n",
    "            prev.next = Node(i)\n",
    "            prev.next.prev = prev\n",
    "            prev = prev.next\n",
    "        \n",
    "        prev.next = self.head\n",
    "        self.head.prev = prev\n",
    "        return None\n",
    "    \n",
    "    def _remove_current(self):\n",
    "        self.num_nodes -= 1\n",
    "        # print(self.current_spot.n)\n",
    "        self.current_spot.prev.next, self.current_spot.next.prev = (self.current_spot.next, self.current_spot.prev)\n",
    "        self.current_spot = self.current_spot.next\n",
    "    \n",
    "    def _advance(self):\n",
    "        if self.num_nodes > 1:\n",
    "            self.current_spot = self.current_spot.next\n",
    "            self._remove_current()\n",
    "        else:\n",
    "            raise Exception(\"There is only one node left\")\n",
    "    \n",
    "    def run_game(self):\n",
    "        while self.num_nodes > 1:\n",
    "            self._advance()\n",
    "        return self.current_spot.n\n",
    "\n",
    "\n",
    "for i in range(2,70+1):\n",
    "    c = Circle(i)\n",
    "    print(c.run_game())"
   ]
  },
  {
   "cell_type": "markdown",
   "metadata": {},
   "source": [
    "Would you look at that! Definitely a pattern! A few things pop out:\n",
    "\n",
    "  -1. Each subsequent answer increases by $2$ which also happens to be the step size\n",
    "  -2. Obviously the answer never exceeds the number of players %n%\n",
    "\n",
    "This suggests a recursive solution relating $f(n, s) = g( f(n-1, s)$. We just need to figure out the function $g$.\n",
    "\n",
    "Using these observations, I'm inclined to suggest $f(n,s) = (f(n-1,s) + s) \\mod n$\n",
    "\n",
    "However, when we run this we find that it doesn't quite give the correct answer. It appears that our indexing is a little off.  We get an answer of $0$ for $n=2$ which makes sense upon closer inspection of our equation.  So let's adjust our equation a little to account for the fact that the problem is 1-indexed (whereas modulo more naturally supports 0-indexing).\n",
    "\n",
    "$ f(n,s) = \\big( (f(n-1,s) + (s-1) ) \\mod n \\big) + 1 $"
   ]
  },
  {
   "cell_type": "code",
   "execution_count": 13,
   "metadata": {},
   "outputs": [
    {
     "name": "stdout",
     "output_type": "stream",
     "text": [
      "1\n",
      "3\n",
      "1\n",
      "3\n",
      "5\n",
      "7\n",
      "1\n",
      "3\n",
      "5\n",
      "7\n",
      "9\n",
      "11\n",
      "13\n",
      "15\n",
      "1\n",
      "3\n",
      "5\n",
      "7\n",
      "9\n"
     ]
    }
   ],
   "source": [
    "def calc(n,s):\n",
    "    if n==1:\n",
    "        return 1\n",
    "    \n",
    "    return (calc(n-1, s) + s-1) % n + 1\n",
    "\n",
    "for i in range(2,20+1):\n",
    "    print(calc(i,2))"
   ]
  },
  {
   "cell_type": "markdown",
   "metadata": {},
   "source": [
    "Perfect! If we check other step sizes, it also works! But lets take a momement to go back and try to better understand why this works (we did sort of stumble on the solution based on the results of various manual calculations). \n",
    "\n",
    "If we imagine a game with $n$ players for step $s$ (i.e. $f(n,s)=a$ where $a$ is the final remaining location), then after we've eliminated the first player, we have advanced $k$ spots and now have $n-1$ players. So the state of the board resembles the original state $f(n,s)$ if we started the $f(n,s)$ game $k$ steps forward (i.e. $f(n,s)+k$) and had one fewer player $(f(n-1,s)$). Together we intuitively have $f(n,s) = (f(n-1,s) + k) \\mod n$. Barring the indexing issue,  this intuition appears to bring us to the correct answer."
   ]
  },
  {
   "cell_type": "markdown",
   "metadata": {},
   "source": [
    "# Extra Credit\n"
   ]
  },
  {
   "cell_type": "markdown",
   "metadata": {},
   "source": [
    "My first thought was that we could calculating the stationary distribution of a markov chain with a relationship like $P(n) = \\frac{1}{2}P(n-2) + \\frac{1}{2}P(n-3)$. Of course, this formulation doesn't actually work because after the first round, $P(n)$'s predecessors aren't confined to $P(n-2)$ and $P(n-3)$. In fact, at the start, it's not clear that we should exclude the possiblity of _any_ player transitioning to any other player.\n",
    "\n",
    "Another approach would be to brute force calculation.  However this undergoes exponential growth (e.g. $O(2^n)$).\n",
    "\n",
    "Unfortunately, I'm running out of time to find the answer using an analytic approach so I'm just going to simulate the problem like a weenie. "
   ]
  },
  {
   "cell_type": "code",
   "execution_count": 14,
   "metadata": {},
   "outputs": [],
   "source": [
    "import random\n",
    "\n",
    "class RandomCircle(Circle):\n",
    "    def __init__(self, n:int):\n",
    "        super().__init__(n)\n",
    "\n",
    "    def _advance(self):\n",
    "        s = random.choice([2,3])\n",
    "        if self.num_nodes > 1:\n",
    "            for _ in range(s-1):\n",
    "                self.current_spot = self.current_spot.next\n",
    "            self._remove_current()\n",
    "        else:\n",
    "            raise Exception(\"There is only one node left\")"
   ]
  },
  {
   "cell_type": "code",
   "execution_count": 20,
   "metadata": {},
   "outputs": [
    {
     "name": "stdout",
     "output_type": "stream",
     "text": [
      "Player 18 wins 0.068046% of the time.\n",
      "Player 19 wins 0.066954% of the time.\n",
      "Player 17 wins 0.066689% of the time.\n",
      "Player 20 wins 0.065004% of the time.\n",
      "Player 16 wins 0.063649% of the time.\n",
      "Player 1 wins 0.062299% of the time.\n",
      "Player 15 wins 0.060377% of the time.\n",
      "Player 14 wins 0.05672% of the time.\n",
      "Player 13 wins 0.052413% of the time.\n",
      "Player 12 wins 0.050493% of the time.\n",
      "Player 11 wins 0.046386% of the time.\n",
      "Player 4 wins 0.04563% of the time.\n",
      "Player 10 wins 0.043576% of the time.\n",
      "Player 9 wins 0.043298% of the time.\n",
      "Player 7 wins 0.039847% of the time.\n",
      "Player 6 wins 0.03928% of the time.\n",
      "Player 8 wins 0.037527% of the time.\n",
      "Player 5 wins 0.030916% of the time.\n",
      "Player 2 wins 0.030693% of the time.\n",
      "Player 3 wins 0.030203% of the time.\n"
     ]
    }
   ],
   "source": [
    "from collections import defaultdict\n",
    "\n",
    "results = defaultdict(lambda: 0)\n",
    "n = 1000000\n",
    "for _ in range(n):\n",
    "    r = RandomCircle(20)\n",
    "    winner = r.run_game()\n",
    "    results[winner] += 1\n",
    "\n",
    "for k, v in sorted(results.items(), key=lambda a: a[1], reverse=True):\n",
    "    print(f\"Player {k} wins {v/n}% of the time.\")"
   ]
  },
  {
   "cell_type": "markdown",
   "metadata": {},
   "source": [
    "Assuming my code was correct, Player 18 has the best chance of winning at around $6.8%$. "
   ]
  }
 ],
 "metadata": {
  "kernelspec": {
   "display_name": "Python 3.9.12 ('base')",
   "language": "python",
   "name": "python3"
  },
  "language_info": {
   "codemirror_mode": {
    "name": "ipython",
    "version": 3
   },
   "file_extension": ".py",
   "mimetype": "text/x-python",
   "name": "python",
   "nbconvert_exporter": "python",
   "pygments_lexer": "ipython3",
   "version": "3.9.12"
  },
  "orig_nbformat": 4,
  "vscode": {
   "interpreter": {
    "hash": "c228aaba8bf5593ac36e6849a4bcb1a7da76711a18fb4b33457e0d49007806e7"
   }
  }
 },
 "nbformat": 4,
 "nbformat_minor": 2
}
