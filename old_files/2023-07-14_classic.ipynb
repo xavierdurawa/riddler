{
 "cells": [
  {
   "cell_type": "markdown",
   "metadata": {},
   "source": [
    "# [Can You Order the Operations?](https://thefiddler.substack.com/p/can-you-order-the-operations)\n",
    "## July 14 2023"
   ]
  },
  {
   "cell_type": "markdown",
   "metadata": {},
   "source": [
    "# Problem\n",
    "_You are writing an expression using the whole numbers 1, 2, 3, 4, and 5, and the operations of addition, subtraction, multiplication, and division. Importantly, you must use each number and operation exactly once. Also, you can use as many parentheses as you would like. No concatenation of the digits is allowed (i.e., you can’t combine 2 and 3 to make the number 23). For example, one such number you could generate is 7, since you can write that as (2÷1)×3+5−4._\n",
    "\n",
    "_What is the largest value you can generate in this way, using the five digits and four operations? (Note: Unlike Digits, fractional values are allowed here.)_"
   ]
  },
  {
   "cell_type": "markdown",
   "metadata": {},
   "source": [
    "# Solution\n",
    "\n",
    "Multiplication increases the values of number the most so we'd like to multiply together the largest numbers possible. But if we just naively muplipy $5*4$ we may forget that we have the addition operator at our disposal which can increase the number. So lets make sure we add $3$ to one of these before multiplying. But which one? In this case, we should obviously add to the $4$ but more generally, we want to add to whichever number will bring the multiplicants closest together (we can show this simply by noting that $n*n > (n+1)(n-1) = n^2-1$).\n",
    "\n",
    "So what do we do with the reuctive operations? As much as possible, we'd like to reduce their influence and negate them. As it turns out, we're left with $2$ and $1$ and operations $/$ and $-$. division by 1 will be the best we can do which we can accomplish by dividing the whole expression by $2-1$.\n",
    "\n",
    "This gives us our answer:\n",
    "$$\\frac{5*(4+3)}{2-1} = 35$$"
   ]
  },
  {
   "cell_type": "markdown",
   "metadata": {},
   "source": [
    "# Extra Credit\n",
    "\n",
    "We can employ very similar ideas in the numerator to get $9*(8+5)*(7+6)$ which uses up our multiplication and addition. Here however, the division get's more interesting since we can devide the divisor (essentially creating a multiplication). This is only possible with two divisions.  To explain our goal, lets refer to the following fraction:\n",
    "\n",
    "$$\\frac{a}{(\\frac{b}{c})} = \\frac{a*c}{b}$$\n",
    "\n",
    "We still want to minimize $b$ but now we'd like to maximize $c$ as well as $a$. What's also interesting here is that while $a$ will be composed of multiplications and additions, $c$ will be composed of a subtraction (since all of the additions and multipcations are used up creating $a$ and the divisions have already been accounted for in the equation above).\n",
    "\n",
    "Of course, we could simply maximize $c$ and minimize $b$ with our remaining numbers (i.e. $c=4-1=3$ and $b=3-2=1$) but we would have missed something! Remember, we want all our multiplicands to be as close in value as possible! We can increase $c$ by rearranging the numerator a bit to $c=9-1=8$ and $a=8*(7+4)*(6+5)=968$.  Altogether, that leaves us with:\n",
    "\n",
    "$$ \\frac{8*(7+4)*(6+5)}{\\frac{3-2}{9-1}} = 7744$$"
   ]
  },
  {
   "cell_type": "code",
   "execution_count": 7,
   "metadata": {},
   "outputs": [
    {
     "data": {
      "text/plain": [
       "7744.0"
      ]
     },
     "execution_count": 7,
     "metadata": {},
     "output_type": "execute_result"
    }
   ],
   "source": [
    "8*(7+4)*(6+5)/( (3-2) / (9-1) )"
   ]
  },
  {
   "cell_type": "markdown",
   "metadata": {},
   "source": [
    "Assuming this approach is correct, we can generalize it to any $k$ number of each operator. Let's keep in mind that each time we get to a new even $k$ we will effectively be adding a multiplication term to the top (i.e. divide the denominator is the same as multiplying the numerator). Using the patterns we've described above and some good old fashioned algebra we get:\n",
    "\n",
    "$ (\\alpha + 2k -2\\left\\lfloor \\frac{k}{2} \\right\\rfloor)^k (\\alpha - \\left\\lfloor \\frac{k}{2} \\right\\rfloor)^{\\left\\lfloor \\frac{k}{2} \\right\\rfloor + 1} $ where $\\alpha = 4k+1$\n",
    "\n",
    "Hopefully that's correct!"
   ]
  },
  {
   "cell_type": "code",
   "execution_count": 8,
   "metadata": {},
   "outputs": [],
   "source": [
    "def equation(k: int):\n",
    "    a = 4*k+1\n",
    "    return (a-k//2) * (a+2*k-2*(k//2))**k * (a-k//2)**(k//2)"
   ]
  },
  {
   "cell_type": "code",
   "execution_count": 13,
   "metadata": {},
   "outputs": [
    {
     "data": {
      "text/plain": [
       "707472"
      ]
     },
     "execution_count": 13,
     "metadata": {},
     "output_type": "execute_result"
    }
   ],
   "source": [
    "equation(3)"
   ]
  }
 ],
 "metadata": {
  "kernelspec": {
   "display_name": "Python 3.8.9 64-bit",
   "language": "python",
   "name": "python3"
  },
  "language_info": {
   "codemirror_mode": {
    "name": "ipython",
    "version": 3
   },
   "file_extension": ".py",
   "mimetype": "text/x-python",
   "name": "python",
   "nbconvert_exporter": "python",
   "pygments_lexer": "ipython3",
   "version": "3.8.9"
  },
  "orig_nbformat": 4,
  "vscode": {
   "interpreter": {
    "hash": "31f2aee4e71d21fbe5cf8b01ff0e069b9275f58929596ceb00d14d90e3e16cd6"
   }
  }
 },
 "nbformat": 4,
 "nbformat_minor": 2
}
