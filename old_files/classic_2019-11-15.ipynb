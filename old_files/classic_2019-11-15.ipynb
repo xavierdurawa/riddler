{
 "cells": [
  {
   "cell_type": "markdown",
   "metadata": {},
   "source": [
    "# Riddler Classic - [November 15, 2019](https://fivethirtyeight.com/features/how-low-can-you-roll/)"
   ]
  },
  {
   "cell_type": "markdown",
   "metadata": {},
   "source": [
    "## Problem\n",
    "_You are given a fair, unweighted 10-sided die with sides labeled 0 to 9 and a sheet of paper to record your score. (If the very notion of a fair 10-sided die bothers you, and you need to know what sort of three-dimensional solid it is, then forget it — you have a random number generator that gives you an integer value from 0 to 9 with equal probability. Your loss — the die was a collector’s item.)_\n",
    "\n",
    "_To start the game, you roll the die. Your current “score” is the number shown, divided by 10. For example, if you were to roll a 7, then your score would be 0.7. Then, you keep rolling the die over and over again. Each time you roll, if the digit shown by the die is less than or equal to the last digit of your score, then that roll becomes the new last digit of your score. Otherwise you just go ahead and roll again. The game ends when you roll a zero._\n",
    "\n",
    "_For example, suppose you roll the following: 6, 2, 5, 1, 8, 1, 0. After your first roll, your score would be 0.6, After the second, it’s 0.62. You ignore the third roll, since 5 is greater than the current last digit, 2. After the fourth roll, your score is 0.621. You ignore the fifth roll, since 8 is greater than the current last digit, 1. After the sixth roll, your score is 0.6211. And after the seventh roll, the game is over — 0.6211 is your final score._\n",
    "\n",
    "_What will be your average final score in this game?_"
   ]
  },
  {
   "cell_type": "markdown",
   "metadata": {},
   "source": [
    "## Analytic Solution\n",
    "We'll approach this by summing the expected value of each subsequent digit that get's added to our score.\n",
    "\n",
    "- Digit 1: The first digit can take on values from 0-9 on a uniform distribution so the expected value associates with this digit is $\\frac{9}{2*10}=\\frac{9}{20}$\n",
    "- Digit 2: The second digit depends on the value of first digit.  If the first digit was 9, the second digit can take on any value which means the expected value of the second digit is $\\frac{9}{2*10^2}$.  Similarly, if the first digit was 8, the expected value of the second digit is $\\frac{8}{2*10^2}$ and so on.  Overall the second digit has an expected value of $$\\frac{9}{2*10^2}+\\frac{8}{2*10^2}+\\cdots+\\frac{1}{2*10^2}=\\frac{9}{2^2*10^2}=\\frac{9}{20^2}$$\n",
    "- Digit i: We can now see the pattern.  The ith digit has an expected value of $$\\frac{9}{20^i}$$\n",
    "\n",
    "Now summing all the digits we see that we have a geometric sequence. \n",
    "$$\\frac{9}{20^1}+\\frac{9}{20^2}+\\cdots=\\frac{9}{20}*\\frac{1}{1-\\frac{1}{20}}=9/19=0.47368$$\n",
    "\n",
    "So on average we will obtain a score of $\\frac{9}{19}=0.47368$"
   ]
  },
  {
   "cell_type": "markdown",
   "metadata": {},
   "source": [
    "## Computational Check\n",
    "Now lets check this solution with a simple monte carlo simulation. The code below simulates the game and yields the average of $10^6$ simulations.  "
   ]
  },
  {
   "cell_type": "code",
   "execution_count": 1,
   "metadata": {},
   "outputs": [],
   "source": [
    "import random\n",
    "import multiprocessing as mp"
   ]
  },
  {
   "cell_type": "code",
   "execution_count": 2,
   "metadata": {},
   "outputs": [],
   "source": [
    "def generate_number():\n",
    "    '''\n",
    "    Simulates one game\n",
    "    \n",
    "    Return (float): the score of the game\n",
    "    '''\n",
    "    \n",
    "    # First digit\n",
    "    prev = random.randint(0,9)\n",
    "    number = prev/10\n",
    "    i = 2\n",
    "    # Generate the second, third, ... digit\n",
    "    while True:\n",
    "        d = random.randint(0,9)\n",
    "        if d == 0: break\n",
    "        elif d > prev: continue\n",
    "        else:\n",
    "            prev = d\n",
    "            number += d/(10**i)\n",
    "            i += 1\n",
    "    return number"
   ]
  },
  {
   "cell_type": "markdown",
   "metadata": {},
   "source": [
    "We'll use a little parallel processing to speed up our simulation"
   ]
  },
  {
   "cell_type": "code",
   "execution_count": 3,
   "metadata": {},
   "outputs": [
    {
     "name": "stdout",
     "output_type": "stream",
     "text": [
      "0.4736745090713184\n"
     ]
    }
   ],
   "source": [
    "with mp.Pool(mp.cpu_count()) as pool:\n",
    "    future_results = [pool.apply_async(generate_number) for i in range(10**6)]\n",
    "    results = [f.get() for f in future_results]\n",
    "    print(sum(results)/len(results))"
   ]
  },
  {
   "cell_type": "markdown",
   "metadata": {},
   "source": [
    "The simulation returns a very similar value giving us confidence that our analytic solution is correct.  "
   ]
  },
  {
   "cell_type": "code",
   "execution_count": null,
   "metadata": {},
   "outputs": [],
   "source": []
  }
 ],
 "metadata": {
  "kernelspec": {
   "display_name": "Python 3",
   "language": "python",
   "name": "python3"
  },
  "language_info": {
   "codemirror_mode": {
    "name": "ipython",
    "version": 3
   },
   "file_extension": ".py",
   "mimetype": "text/x-python",
   "name": "python",
   "nbconvert_exporter": "python",
   "pygments_lexer": "ipython3",
   "version": "3.7.2"
  }
 },
 "nbformat": 4,
 "nbformat_minor": 2
}
