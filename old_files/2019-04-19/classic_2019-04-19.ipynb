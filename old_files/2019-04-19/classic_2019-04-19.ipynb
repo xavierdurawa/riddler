{
 "cells": [
  {
   "cell_type": "markdown",
   "metadata": {},
   "source": [
    "# Riddler Classic - [April 19, 2019](https://fivethirtyeight.com/features/what-comes-after-840-the-answer-may-surprise-you/)\n",
    "\n",
    "\n",
    "## Problem\n",
    "_If N points are generated at random places on the perimeter of a circle, what is the probability that you can pick a diameter such that all of those points are on only one side of the newly halved circle?_\n",
    "\n",
    "## Solution\n",
    "### Analytic Approach\n",
    "Let's try to solve this one the legit way, using on only pencil and paper! To simplify the problem a bit, let represent each point along the perimiter by it's angle.  With that being the case, each point is independent and has has uniform distribution $\\Theta_i \\sim U(0,2\\pi)$.\n",
    "\n",
    "We want to find the probability that all N points fall within a range of $\\pi$, i.e.\n",
    "\n",
    "$$\n",
    "\\begin{equation}\n",
    "\\Pr[\\max(\\Theta_1,...,\\Theta_N)-\\min(\\Theta_1,\\ldots,\\Theta_N)< \\pi]\n",
    "\\end{equation}\n",
    "$$\n",
    "\n",
    "Let's rewrite this a little.  First, let's define $R=G-L$ where $G=\\max(\\Theta_1,\\ldots,\\Theta_N)$ and $L=\\min(\\Theta_1,\\ldots,\\Theta_N)$.  We're trying to find \n",
    "\n",
    "$$\n",
    "\\Pr[R < \\pi]\n",
    "$$\n",
    "\n",
    "By finding the cumulative distribution function (c.d.f.) of $R$, namely $\\Pr[R < \\Delta\\theta]$ (with $\\Delta\\theta$ eventually being set to $\\pi$) we will be able to easily calculate $\\Pr[R < \\pi]$.\n",
    "\n",
    "Thankfully a derivation for this distribution can be found [here](http://www.di.fc.ul.pt/~jpn/r/prob/range.html) which I will borrow from heavily. So to start, let $\\theta$ be the maximum angle of all N points and let $\\Delta\\theta$ be the range of the N points. There are two import cases to consider:\n",
    "- 1) $\\theta<\\Delta\\theta$  This is the case when $G<\\Delta\\theta$\n",
    "- 2) $\\theta>\\Delta\\theta$  This is the case when $G = \\theta$  and all the points fall into the range $[\\theta - \\Delta\\theta, \\theta]$, which we'll call event **A**. The probability any one point would be included in event __A__ is $\\frac{\\theta-(\\theta-\\Delta\\theta)}{\\theta} = \\frac{\\Delta\\theta}{\\theta}$\n",
    "\n",
    "Before evaluating this distribution, we first need to determine the c.d.f. and probability distribution function (p.d.f.) of $G=\\max(\\Theta_1,\\ldots,\\Theta_N)$ which can be written as follows\n",
    "\n",
    "$$\n",
    "\\Pr[G<\\theta] = {\\displaystyle \\prod_{i=1}^N \\Pr[\\Theta_i<\\theta]} = {\\big(\\Pr[\\Theta<\\theta]\\big)}^N = {\\big( \\frac{\\theta}{2\\pi} \\big)}^N\n",
    "$$\n",
    "\n",
    "$$\n",
    "\\frac{d}{d\\theta} \\Big[ {\\big( \\frac{\\theta}{2\\pi} \\big)}^N \\Big] = \\frac{N\\theta^{N-1}}{(2\\pi)^N}\n",
    "$$\n",
    "\n",
    "Now we can evaluate the c.d.f. of $G$.  \n",
    "\n",
    "$$\n",
    "\\begin{align}\n",
    "\\Pr[R < \\Delta\\theta] &= \\Pr[G<\\Delta\\theta] + {\\displaystyle \\int_d^{2\\pi} f_G(\\theta) \\Pr[A] d\\theta} \\\\\n",
    "&= { \\Big(\\frac{\\Delta\\theta}{2\\pi} \\Big)}^N + {\\displaystyle \\int_d^{2\\pi} { \\Big(\\frac{\\Delta\\theta}{\\theta} \\Big)}^{N-1} \\frac{N\\theta^{N-1}}{(2\\pi)^N} d\\theta} \\\\\n",
    "&= \\Big(\\frac{1}{2\\pi}\\Big)^N \\Big[(\\Delta\\theta)^N + {\\displaystyle \\int_d^{2\\pi} N(\\Delta\\theta)^{N-1} d\\theta} \\Big]\\\\\n",
    "&= \\Big(\\frac{1}{2\\pi}\\Big)^N \\big[(\\Delta\\theta)^N + N(\\Delta\\theta)^{N-1}(2\\pi-\\Delta\\theta) \\big]\n",
    "\\end{align}\n",
    "$$\n",
    "\n",
    "If we substitute $\\Delta\\theta=\\pi$ we get\n",
    "\n",
    "$$\n",
    "\\Big( \\frac{1}{2} \\Big)^N (1+N)\n",
    "$$\n",
    "\n",
    "### Code (check)\n",
    "Equiped with this solution, let's use a simulation to verify.  First, let's evaluate the answer for $N= [1,\\ldots,10]$."
   ]
  },
  {
   "cell_type": "code",
   "execution_count": 14,
   "metadata": {},
   "outputs": [
    {
     "name": "stdout",
     "output_type": "stream",
     "text": [
      "Probability with 1 points: 1.0\n",
      "Probability with 2 points: 0.75\n",
      "Probability with 3 points: 0.5\n",
      "Probability with 4 points: 0.3125\n",
      "Probability with 5 points: 0.1875\n",
      "Probability with 6 points: 0.109375\n",
      "Probability with 7 points: 0.0625\n",
      "Probability with 8 points: 0.03515625\n",
      "Probability with 9 points: 0.01953125\n",
      "Probability with 10 points: 0.0107421875\n"
     ]
    }
   ],
   "source": [
    "num_points = 10\n",
    "for n in range(1,num_points+1):\n",
    "    print(\"Probability with {0} points: {1}\".format(n, .5**n * (n+1)))"
   ]
  },
  {
   "cell_type": "markdown",
   "metadata": {},
   "source": [
    "Now, let's code up a simulation and see if the answers match.  "
   ]
  },
  {
   "cell_type": "code",
   "execution_count": 15,
   "metadata": {},
   "outputs": [
    {
     "name": "stdout",
     "output_type": "stream",
     "text": [
      "Probability with 1 points: 1.0\n",
      "Probability with 2 points: 0.74795\n",
      "Probability with 3 points: 0.50076\n",
      "Probability with 4 points: 0.31486\n",
      "Probability with 5 points: 0.1897\n",
      "Probability with 6 points: 0.1093\n",
      "Probability with 7 points: 0.06137\n",
      "Probability with 8 points: 0.03412\n",
      "Probability with 9 points: 0.01943\n",
      "Probability with 10 points: 0.01098\n"
     ]
    }
   ],
   "source": [
    "import random\n",
    "import math\n",
    "\n",
    "def run_circle_simulation(num_points):\n",
    "    theta = []\n",
    "    for i in range(num_points):\n",
    "        theta.append(random.random()*2*math.pi)\n",
    "    max_theta = max(theta)\n",
    "    min_theta = min(theta)\n",
    "\n",
    "    # Check if max-min < pi\n",
    "    if abs(max_theta - min_theta) < math.pi:\n",
    "        return True\n",
    "    else:\n",
    "        return False\n",
    "    \n",
    "def run_simulations(num_point, num_trials):\n",
    "    results = []\n",
    "    for i in range(num_trials):\n",
    "        results.append(run_circle_simulation(n))\n",
    "    \n",
    "    return results\n",
    "\n",
    "\n",
    "num_points = 10\n",
    "num_trials = 100000\n",
    "for n in range(1, num_points+1):\n",
    "    results = run_simulations(n, num_trials)\n",
    "    print(\"Probability with {0} points: {1}\".format(n, sum(results)/len(results)))"
   ]
  },
  {
   "cell_type": "markdown",
   "metadata": {},
   "source": [
    "Excellent! These values match the analytic solution closely giving us high confidence that $\\big( \\frac{1}{2} \\big)^N (1+N)$ is correct.  "
   ]
  },
  {
   "cell_type": "code",
   "execution_count": null,
   "metadata": {},
   "outputs": [],
   "source": []
  }
 ],
 "metadata": {
  "kernelspec": {
   "display_name": "Python 3",
   "language": "python",
   "name": "python3"
  },
  "language_info": {
   "codemirror_mode": {
    "name": "ipython",
    "version": 3
   },
   "file_extension": ".py",
   "mimetype": "text/x-python",
   "name": "python",
   "nbconvert_exporter": "python",
   "pygments_lexer": "ipython3",
   "version": "3.7.2"
  }
 },
 "nbformat": 4,
 "nbformat_minor": 2
}
