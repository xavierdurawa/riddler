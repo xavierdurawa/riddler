{
 "cells": [
  {
   "cell_type": "markdown",
   "metadata": {},
   "source": [
    "# Riddler Classic - [September 21, 2019](https://fivethirtyeight.com/features/can-you-win-the-tour-de-fivethirtyeight/)"
   ]
  },
  {
   "cell_type": "markdown",
   "metadata": {},
   "source": [
    "## Problem\n",
    "_You are the coach for Team Riddler at the Tour de FiveThirtyEight, where there are 20 teams (including yours). Your objective is to win the Team Time Trial race, which has the following rules:_\n",
    "\n",
    "- _Each team rides as a group throughout the course at some fixed pace, specified by that team’s coach. Teams that can’t maintain their pace are said to have “cracked,” and don’t finish the course._\n",
    "- _The team that finishes the course with the fastest pace is declared the winner._\n",
    "- _Teams ride the course one at a time. After each team completes its attempt, the next team quickly consults with its coach (who assigns a pace) and then begins its ride. Coaches are aware of the results of all previous teams when choosing their own team’s pace._\n",
    "\n",
    "_Assume that all teams are of equal ability: At any given pace, they have the exact same probability of cracking, and the faster the pace, the greater the probability of cracking. Teams’ chances of cracking are independent, and each team’s coach knows exactly what a team’s chances of cracking are for each pace._\n",
    "\n",
    "_Team Riddler is the first team to attempt the course. To maximize your chances of winning, what’s the probability that your team will finish the course? What’s the probability you’ll ultimately win?_\n",
    "\n",
    "_Extra Credit: If Team Riddler is the last team to attempt the course (rather than the first), what are its chances of victory?_"
   ]
  },
  {
   "cell_type": "markdown",
   "metadata": {},
   "source": [
    "## Solution\n",
    "OK, first let's wrap our head around this problem. We are the first team to go and we want to maximize our chances of winning knowing that if we successfully complete the course at a give pace, all the other teams will choose an pace that's slightly faster and arbitrarly close to our completion pace. For that reason, our calculation will have each subsequent team attempting to match our pace with the idea being that they could select a pace that's slightly faster but basically equal. So the probablity that Team Riddler wins is the probability that (1) we complete the course, and (2) none of the other teams complete the course. \n",
    "\n",
    "$$\\Pr(W)=\\Pr(c_1)\\cdot\\Pr(\\lnot c_2)\\cdot\\Pr(\\lnot c_3)\\cdot\\ldots\\cdot\\Pr(\\lnot c_{20}) \\\\ \\text{where $c_i$ is the event in which team i completes the course}$$\n",
    "\n",
    "Let the probability that we complete the course $\\Pr(c_1)=p$. Again, if we successfully complete the course, each other team will pick a pace that's slightly faster but virtually equal to our pace.  Therefore we can assume that if we successfully complete the course, each other team will approximately match our pace.  As a result, the probability that all the other teams DO NOT successfully complete the course is $\\Pr(\\lnot c_i)=1-p$.  Now we can rewrite the probability of winning as follows.\n",
    "\n",
    "$$\\Pr(W)=p\\cdot(1-p)^{19}$$\n",
    "\n",
    "Now we simply need to find the maximum of the above equation.  WE can do this using good ol' calculus.  Take the derivative, set it to zero, and verify that the root we found was a the global maximum. The derivative yields\n",
    "\n",
    "$$0=(1-20x)(1-x)^{18} \\\\ \\text{which has roots at } x=0.05 \\text{ and } x=1$$\n",
    "\n",
    "Graphing the our original equation, we can easily verify that the maximum occurs at $x=0.05$."
   ]
  },
  {
   "cell_type": "code",
   "execution_count": 3,
   "metadata": {},
   "outputs": [],
   "source": [
    "import numpy as np  \n",
    "import matplotlib.pyplot as plt  \n",
    "def graph(formula, x_range):  \n",
    "    x = np.array(x_range)  \n",
    "    y = eval(formula)\n",
    "    plt.plot(x, y)  \n",
    "    plt.show()"
   ]
  },
  {
   "cell_type": "code",
   "execution_count": 7,
   "metadata": {},
   "outputs": [
    {
     "data": {
      "image/png": "[encoded data removed]",
      "text/plain": [
       "<Figure size 432x288 with 1 Axes>"
      ]
     },
     "metadata": {
      "needs_background": "light"
     },
     "output_type": "display_data"
    }
   ],
   "source": [
    "graph('x*(1-x)**19', np.linspace(0,1,100))"
   ]
  },
  {
   "cell_type": "markdown",
   "metadata": {},
   "source": [
    "So the probability that we will finish the course is 5% which, after plugging this back into our equation, yields a 1.89% probability of winning the race.  "
   ]
  },
  {
   "cell_type": "code",
   "execution_count": 8,
   "metadata": {},
   "outputs": [
    {
     "data": {
      "text/plain": [
       "0.018867680126765363"
      ]
     },
     "execution_count": 8,
     "metadata": {},
     "output_type": "execute_result"
    }
   ],
   "source": [
    "x=.05\n",
    "x*(1-x)**19"
   ]
  },
  {
   "cell_type": "markdown",
   "metadata": {},
   "source": [
    "## Extra Credit\n",
    "\n",
    "Now then, the extra credit is where things really get interesting. The difficult part here is that in the last position, Team Riddler's chances of winning are going to depend on which teams in the race successfully completed the course. To illustrate this, image first that Team Riddler is the second team to go. One of two things can happen. Either team 1 suggestfully finishes the course or the don't. In the event that they do, Team Riddler will simply match the first team's pace (but slightly faster). In the likely event that Team 1 fails to complete the course, Teams Riddler can now pick whichever pace they like they and would be wise to optimize their pace in much the same way they did when they were the first to race :)\n",
    "\n",
    "More explicitly, Team Riddler's probability to winning (if they're going second) is \n",
    "\n",
    "$$\\Pr(W)=\\Pr(c_1)\\cdot\\Pr(c_2)\\cdot\\Pr(\\lnot c_3)\\cdot\\ldots\\cdot\\Pr(\\lnot c_{20}) + \\\\ \\Pr(\\lnot c_1)\\cdot\\Pr(c_2)\\cdot\\Pr(\\lnot c_3)\\cdot\\ldots\\cdot\\Pr(\\lnot c_{20})$$\n",
    "\n",
    "If team 1 completes the course, all the other teams will have to attempt to complete the race at the pace set by team 1. Let's call their pace (described in terms of the likelihood they complete the course) as \n",
    "\n",
    "$$\\Pr(c_1)=p_1$$\n",
    "\n",
    "If team 1 doesn't complete the course, Team Riddler can set their own optimal pace.  Using the same procedure we used for the first part of the question, we just need to find the maximum of \n",
    "\n",
    "$$\\Pr(W)=\\Pr(c_2)\\cdot\\Pr(\\lnot c_3)\\cdot\\ldots\\cdot\\Pr(\\lnot c_{20}) = p_2*(1-p_2)^{18}$$\n",
    "\n",
    "As you've probably already noticed, the optimal pace for any given team $i$ (assuming all the teams before them didn't complete the course) is given by\n",
    "\n",
    "$$\\Pr(W_i)=p_i*(1-p_i)^{20-i}$$\n",
    "\n",
    "which always yields the same derivative\n",
    "\n",
    "$$0=(1-21p_i+ip_i)(1-p_i)^{19-i}$$\n",
    "\n",
    "and always has its maximum root at \n",
    "\n",
    "$$p_i=\\frac{1}{21-i}$$\n",
    "\n",
    "Now we're equipped to determine the probability of winning if Team Riddler is the last to race.  We need to account for all of the different paces that Team Riddler might have to attempt to beat and the corresponding probabilities of that event occuring.  Thankfully, out task will be simplified by the fact that the pace of the race is completely dictacted once a simple team has completed the course. After than point, each subequent team's optimal strategy is to attempt to complete the course at a slightly faster rate (equal for the sake of how we're treating this problem).  So there are 20 different paces Team Riddler might have to attempt to complete the race at.  \n",
    "\n",
    "$$p_1=\\frac{1}{20} \\text{ if team 1 is the first to complete}$$\n",
    "$$p_2=\\frac{1}{19} \\text{ if team 2 is the first to complete}$$\n",
    "$$\\cdots$$\n",
    "$$p_{19}=\\frac{1}{2} \\text{ if team 19 is the first to complete}$$\n",
    "$$p_{20}=\\frac{1}{1} \\text{ if team 20 is the first to complete}$$\n",
    "\n",
    "The probability of each of those paces being the pace that dictates Team Riddler's pace is (T_i is the event where team i sets the pace)\n",
    "\n",
    "$$\\Pr(T_1)=p_1$$\n",
    "$$\\Pr(T_2)=(1-p_1)p_2$$\n",
    "$$\\Pr(T_3)=(1-p_1)(1-p_2)p_3$$\n",
    "$$\\cdots$$\n",
    "$$\\Pr(T_{20})=p_{20}\\prod_{i=1}^{19} (1-p_i)$$\n",
    "\n",
    "So the probability of Team Riddler winning is \n",
    "\n",
    "$$\\Pr(W)=\\Pr(c_{20}|p_1)\\Pr(T_1) + \\Pr(c_{20}|p_2)\\Pr(T_2) + \\cdots + \\Pr(c_{20}|p_{20})\\Pr(T_{20})$$"
   ]
  },
  {
   "cell_type": "code",
   "execution_count": 9,
   "metadata": {},
   "outputs": [],
   "source": [
    "import sympy"
   ]
  },
  {
   "cell_type": "code",
   "execution_count": null,
   "metadata": {},
   "outputs": [],
   "source": []
  }
 ],
 "metadata": {
  "kernelspec": {
   "display_name": "Python 3",
   "language": "python",
   "name": "python3"
  },
  "language_info": {
   "codemirror_mode": {
    "name": "ipython",
    "version": 3
   },
   "file_extension": ".py",
   "mimetype": "text/x-python",
   "name": "python",
   "nbconvert_exporter": "python",
   "pygments_lexer": "ipython3",
   "version": "3.7.2"
  }
 },
 "nbformat": 4,
 "nbformat_minor": 2
}
