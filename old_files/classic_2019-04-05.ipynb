{
 "cells": [
  {
   "cell_type": "markdown",
   "metadata": {},
   "source": [
    "# Riddler Classic - April 5, 2019\n",
    "\n",
    "## Problem\n",
    "_Lucky you! You’ve won two gift cards, each loaded with 50 free drinks from your favorite coffee shop, Riddler Caffei-Nation. The cards look identical, and because you’re not one for record-keeping, you randomly pick one of the cards to pay with each time you get a drink. One day, the clerk tells you that he can’t accept the card you presented to him because it doesn’t have any drink credits left on it._\n",
    "\n",
    "_What is the probability that the other card still has free drinks on it? How many free drinks can you expect are still available?_\n",
    "\n",
    "## Solution\n",
    "\n",
    "### My Approach\n",
    "#### Assumptions\n",
    "To me, the problem seems to have a small ambiguity, namely whether we should include the possibility of the other card having been declined before this incident. I'm guessing the arbiter of Riddler Nation [Oliver Roeder](https://www.reddit.com/r/IAmA/comments/9ooyec/i_am_oliver_roeder_fivethirtyeight_staff_writer/) would have explicitly said if we were to include this possibility, so I will not factor it in. In other words, I'm assuming this is the first time in which either gift card has been declined.  \n",
    "\n",
    "#### Analytic Approach\n",
    "##### Probability of still having free drinks on the other card\n",
    "Let $X_1$ be the total number of drinks obtained until 50 drinks were obtained with card 1. Similarily, let $X_2$ be the total number of drinks obtained until 50 drinks were obtained with card 2.  Both $X_1$ and $X_2$ are [negative binomial distributions](https://en.wikipedia.org/wiki/Negative_binomial_distribution) where $X_1 \\sim X_2 \\sim NegativeBinomial(k; 51, 0.5)={k+51-1 \\choose k}(.5)^k(.5)^{50}$\n",
    "\n",
    "We use $51$ because the card will only be declined when we attempt to use the 51st time.  \n",
    "\n",
    "Let's assume $X_1$ is declined first. To determine the probabability that card 2 has exactly 0 drink remaining, we can evaluated $X_2$ exactly at $k=50$.  This yields $P(X_2=50)={50+51-1 \\choose 50}(.5)^{50}(.5)^{50}$"
   ]
  },
  {
   "cell_type": "code",
   "execution_count": 45,
   "metadata": {},
   "outputs": [],
   "source": [
    "import math\n",
    "\n",
    "def choose(n, m):\n",
    "    assert(n>=m)\n",
    "    return math.factorial(n) / (math.factorial(m)*math.factorial(n-m))\n",
    "\n",
    "def evaluate_neg_binomial(k, r, p):\n",
    "    return choose((k+r-1), k) * p**k * (1-p)**r\n",
    "\n",
    "r = 51\n",
    "p = .5\n",
    "k = 50\n",
    "no_val_remaining = evaluate_neg_binomial(k, r, p)"
   ]
  },
  {
   "cell_type": "markdown",
   "metadata": {},
   "source": [
    "In order to account for the possiblity that $X_2$ is the first to get declined, we can simply double the probability we just obtained (because $X_1$ and $X_2$ are symmetric) to get the total probability that there is no monely remaining on the non-declined card.  "
   ]
  },
  {
   "cell_type": "code",
   "execution_count": 46,
   "metadata": {},
   "outputs": [
    {
     "name": "stdout",
     "output_type": "stream",
     "text": [
      "92.04107626128213% chance that the other card still has free drinks\n"
     ]
    }
   ],
   "source": [
    "print(\"{0}% chance that the other card still has free drinks\".format((1-2*no_val_remaining)*100))"
   ]
  },
  {
   "cell_type": "markdown",
   "metadata": {},
   "source": [
    "So the answer to the first questions is __92.04%__\n",
    "\n",
    "##### Number of free drinks remaining\n",
    "Now to determine the average number of drinks remaining, we calculate $50-\\mathbf{E}(X_2 \\mid X_2 \\le 50)$.  This expectation can easily by calculated with $\\frac {\\sum \\limits_{k=0}^{50}k{k+51-1 \\choose k}(.5)^k(.5)^{50}}{\\sum \\limits_{k=0}^{50}{k+51-1 \\choose k}(.5)^k(.5)^{50}}$"
   ]
  },
  {
   "cell_type": "code",
   "execution_count": 47,
   "metadata": {},
   "outputs": [
    {
     "name": "stdout",
     "output_type": "stream",
     "text": [
      "Average of 7.038512976105018 free drinks remaining on the other card\n"
     ]
    }
   ],
   "source": [
    "total_pdf_area = 0\n",
    "unweighted_expectation = 0\n",
    "for k in range(1,r):\n",
    "    pdf_area = choose((k+r-1), k) * p**k * (1-p)**r\n",
    "    total_pdf_area += pdf_area\n",
    "    unweighted_expectation += k*pdf_area\n",
    "        \n",
    "expectation = unweighted_expectation/total_pdf_area\n",
    "print(\"Average of {0} free drinks remaining on the other card\".format(50-expectation))"
   ]
  },
  {
   "cell_type": "markdown",
   "metadata": {},
   "source": [
    "So the answer to the second question is __7.039__\n",
    "\n",
    "#### Code\n",
    "Because I have no confidence in my analytic prowess, I will use a monte carlo simulation to verify that my analytic solution is correct.  To start, let's import the packages we'll need.  "
   ]
  },
  {
   "cell_type": "code",
   "execution_count": 48,
   "metadata": {},
   "outputs": [],
   "source": [
    "import random\n",
    "from matplotlib import pyplot as plt\n",
    "import operator\n",
    "from multiprocessing import cpu_count, Pool"
   ]
  },
  {
   "cell_type": "markdown",
   "metadata": {},
   "source": [
    "Now, let's define a class to will help us simulate our situation.  `Gift_Cards` will be able to run our simulation using any number of cards with any number of free drinks loaded on them (but the number of drinks have to be the same for all the cards).  "
   ]
  },
  {
   "cell_type": "code",
   "execution_count": 49,
   "metadata": {},
   "outputs": [],
   "source": [
    "class Gift_Cards(object):\n",
    "\n",
    "    def __init__(self, num_cards = 2, num_drinks_on_card = 50):\n",
    "        self.num_cards = num_cards\n",
    "        self.num_drinks_on_card = num_drinks_on_card\n",
    "\n",
    "    def use_cards(self):\n",
    "        \"\"\"Run a simulation of randomly using the gift cards\n",
    "        \n",
    "        Arguments: (none)\n",
    "        Return:\n",
    "        left_on_cards: dictionary of number of drinks left on each card\n",
    "        \"\"\"\n",
    "        random.seed()\n",
    "        left_on_cards = {str(i+1):50 for i in range(self.num_cards)}\n",
    "        any_declined = False\n",
    "        while not any_declined:\n",
    "            c = str(random.randint(1, self.num_cards))\n",
    "            left_on_cards[c] -= 1\n",
    "            if left_on_cards[c] == -1:\n",
    "                any_declined = True\n",
    "            else:\n",
    "                continue\n",
    "        return left_on_cards\n",
    "    \n",
    "    def run_2_cards_trials(self, num_trials):\n",
    "        \"\"\"Runs trials for the case with 2 cards\n",
    "\n",
    "        Arguments:\n",
    "        num_trails: number of trials to be run\n",
    "        Return:\n",
    "        avg_drinks_left: average num drinks remaining on other card\n",
    "        \"\"\"       \n",
    "        assert(self.num_cards == 2)\n",
    "        drinks_left = []\n",
    "        for i in range(num_trials):\n",
    "            drinks_left.append(max(self.use_cards().items(), key=operator.itemgetter(1))[1])\n",
    "        return (sum(drinks_left)/num_trials, drinks_left)\n",
    "\n",
    "    def parallel_2_cards_trials(self, num_trials):\n",
    "        \"\"\"Runs trials for the case with 2 cards in parallel\n",
    "\n",
    "        Arguments:\n",
    "        num_trails: number of trials to be run\n",
    "        Return:\n",
    "        avg_drinks_left: average num drinks remaining on other card\n",
    "        \"\"\"       \n",
    "        assert(self.num_cards == 2)\n",
    "        pool = Pool(cpu_count())\n",
    "\n",
    "        results = [pool.apply_async(self.use_cards) for _ in range(num_trials)]\n",
    "        drinks_left = [max(r.get().items(), key=operator.itemgetter(1))[1] for r in results]\n",
    "        return (sum(drinks_left)/num_trials, drinks_left)"
   ]
  },
  {
   "cell_type": "markdown",
   "metadata": {},
   "source": [
    "Now we can go ahead and run the simulation.  "
   ]
  },
  {
   "cell_type": "code",
   "execution_count": 50,
   "metadata": {},
   "outputs": [],
   "source": [
    "if __name__ == \"__main__\":\n",
    "    num_trials = 1000000\n",
    "    g = Gift_Cards(2, 50)\n",
    "    avg_drinks, dist_drink = g.parallel_2_cards_trials(num_trials)"
   ]
  },
  {
   "cell_type": "markdown",
   "metadata": {},
   "source": [
    "The `parallel_2_cards_trials` method returns the average number of drinks remaining on the non-depleted card and a list of the number of remaining drinks on the non-depleted card for each trial. So we can print and graph the results directy from this information.  "
   ]
  },
  {
   "cell_type": "code",
   "execution_count": 51,
   "metadata": {},
   "outputs": [
    {
     "name": "stdout",
     "output_type": "stream",
     "text": [
      "92.0594% chance that the other card still has free drinks\n",
      "Average of 7.039572 free drinks remaining on the other card\n"
     ]
    },
    {
     "data": {
      "image/png": "[encoded data removed]",
      "text/plain": [
       "<Figure size 432x288 with 1 Axes>"
      ]
     },
     "metadata": {
      "needs_background": "light"
     },
     "output_type": "display_data"
    }
   ],
   "source": [
    "    print(\"{0}% chance that the other card still has free drinks\".format((1 - dist_drink.count(0) / num_trials)*100))\n",
    "    print(\"Average of {0} free drinks remaining on the other card\".format(avg_drinks))\n",
    "    plt.hist(dist_drink, bins=range(40))\n",
    "    plt.show()"
   ]
  },
  {
   "cell_type": "markdown",
   "metadata": {},
   "source": [
    "These values match pretty well with the analytically obtained solution!  Hopefully they turn out to be correct.  "
   ]
  },
  {
   "cell_type": "code",
   "execution_count": null,
   "metadata": {},
   "outputs": [],
   "source": []
  }
 ],
 "metadata": {
  "kernelspec": {
   "display_name": "Python 3",
   "language": "python",
   "name": "python3"
  },
  "language_info": {
   "codemirror_mode": {
    "name": "ipython",
    "version": 3
   },
   "file_extension": ".py",
   "mimetype": "text/x-python",
   "name": "python",
   "nbconvert_exporter": "python",
   "pygments_lexer": "ipython3",
   "version": "3.7.2"
  }
 },
 "nbformat": 4,
 "nbformat_minor": 2
}
