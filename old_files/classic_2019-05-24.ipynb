{
 "cells": [
  {
   "cell_type": "code",
   "execution_count": 1,
   "metadata": {},
   "outputs": [],
   "source": [
    "from IPython.display import Image"
   ]
  },
  {
   "cell_type": "markdown",
   "metadata": {},
   "source": [
    "# Riddler Classic - [May 24, 2019](https://fivethirtyeight.com/features/how-many-soldiers-do-you-need-to-beat-the-night-king/)\n",
    "\n",
    "\n",
    "## Problem\n",
    "_At a pivotal moment in an epic battle between the living and the dead, the Night King, head of the army of the dead, raises all the fallen (formerly) living soldiers to join his ranks. This ability obviously presents a huge military advantage, but how big an advantage exactly?_\n",
    "\n",
    "_Forget the Battle of Winterfell and model our battle as follows. Each army lines up single file, facing the other army. One soldier steps forward from each line and the pair duels — half the time the living soldier wins, half the time the dead soldier wins. If the living soldier wins, he goes to the back of his army’s line, and the dead soldier is out (the living army uses dragonglass weapons, so the dead soldier is dead forever this time). If the dead soldier wins, he goes to the back of their army’s line, but this time the (formerly) living soldier joins him there. (Reanimation is instantaneous for this Night King.) The battle continues until one army is entirely eliminated._\n",
    "\n",
    "_What starting sizes of the armies, living and dead, give each army a 50-50 chance of winning?_\n",
    "\n",
    "## Solution\n",
    "### Analytic Approach\n",
    "Well, solving this using simulation just seems much too easy so lets challenge ourselves and try to solve the problem analytically :)\n",
    "\n",
    "First thing we need to do is try to find a convenient way to think about this problem.  The best way I came up with was graphically as shown below. \n",
    "![title](graph.png)\n",
    "Let's explain this quickly. The $n_a$ and $n_d$ axes represents the number of living and dead soldiers respectively. The coordinate $(N_d, N_a)$ represents the starting size of each army. During the battle, there are only two outcomes that can happen for each duel: \n",
    "- The dead soldier wins and the dead army gains a soldier while the living army loses a soldier.  This is represented by the northwest pointing arrow on the graph.  \n",
    "- The living soldier wins and the dead army loses a soldier.  This is represented by south pointing arrow on the graph.\n",
    "\n",
    "To determine the probability of, for example, the dead winning, we need to determine the probability that a random path starting at $(N_d, N_a)$ crosses the $N_d$ axis befor crossing the $N_a$ axis. So lets try and figure this out.  \n",
    "\n",
    "Overall, the maximum number of duels that can be performed is $2*n_a+n_d-1$.  To show this, imagine if the living win every battle until there is only one dead soldier (that would be $N_d-1$ duels), then the dead win every battle until there is one living soldier (that would be $N_a-1$ duels and would leave $N_a$ dead soldiers), and finally the last living soldier defeats all of the dead soldiers ($N_a$ duels).  "
   ]
  },
  {
   "cell_type": "code",
   "execution_count": null,
   "metadata": {},
   "outputs": [],
   "source": []
  }
 ],
 "metadata": {
  "kernelspec": {
   "display_name": "Python 3",
   "language": "python",
   "name": "python3"
  },
  "language_info": {
   "codemirror_mode": {
    "name": "ipython",
    "version": 3
   },
   "file_extension": ".py",
   "mimetype": "text/x-python",
   "name": "python",
   "nbconvert_exporter": "python",
   "pygments_lexer": "ipython3",
   "version": "3.7.2"
  }
 },
 "nbformat": 4,
 "nbformat_minor": 2
}
