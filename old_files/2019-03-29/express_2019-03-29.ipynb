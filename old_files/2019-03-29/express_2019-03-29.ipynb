{
 "cells": [
  {
   "cell_type": "markdown",
   "metadata": {},
   "source": [
    "# Riddler Express - March 29, 2019\n",
    "\n",
    "## Problem\n",
    "_You are competing in a spelling bee alongside nine other contestants. You can each spell words perfectly from a certain portion of the dictionary but will misspell any word not in that portion of the book. Specifically, you have 99 percent of the dictionary down cold, and your opponents have 98 percent, 97 percent, 96 percent, and so on down to 90 percent memorized. The bee’s rules are simple: The contestants take turns spelling in some fixed order, which then restarts with the first surviving speller at the end of a round. Miss a word and you’re out, and the last speller standing wins. The bee words are chosen randomly from the dictionary._\n",
    "\n",
    "_First, say the contestants go in decreasing order of their knowledge, so that you go first. What are your chances of winning the spelling bee? Second, say the contestants go in increasing order of knowledge, so that you go last. What are your chances of winning now?_\n",
    "\n",
    "## Solution\n",
    "\n",
    "### My Approach\n",
    "The easiest approach will be to find the probability $p$ that you _**don't**_ see any new cards.  Then $1-p$ will yield the probability that you have at least one card you've seen in the last round.  \n",
    "\n",
    "Given that each card you draw can't be a card you had last game, the probabily that the first card you draw is $$24/30$$ because there are $30$ total cards and $24$ you didn't see last round. For the next card, you will have drawn once leaving $30-1$ total cards left and $24-1$ cards you haven't seen.  Thus, the probability is $$(24-1)/(30-1)=23/29$$ that your second card is not one you have seen, assuming the first card was also.  The same principal can be used for the third card you draw yielding a probability of $$(23-1)/(29-1)=22/28$$. Multiplying these three probabilities yields $$(24/30)*(23/29)*(22/28)=(24!*27!)/(21!*30!)=.4985$$"
   ]
  },
  {
   "cell_type": "code",
   "execution_count": 10,
   "metadata": {},
   "outputs": [
    {
     "name": "stdout",
     "output_type": "stream",
     "text": [
      "0.49852216748768474\n"
     ]
    }
   ],
   "source": [
    "a=(24/30)*(23/29)*(22/28)\n",
    "print(a)"
   ]
  },
  {
   "cell_type": "code",
   "execution_count": 11,
   "metadata": {},
   "outputs": [
    {
     "name": "stdout",
     "output_type": "stream",
     "text": [
      "0.5014778325123153\n"
     ]
    }
   ],
   "source": [
    "print(1-a)"
   ]
  },
  {
   "cell_type": "markdown",
   "metadata": {},
   "source": [
    "So the probability of drawing 3 completely new cards is $49.85$% and conversely, the probability of drawing 3 cards with some repeats is $50.25$%.  "
   ]
  }
 ],
 "metadata": {
  "kernelspec": {
   "display_name": "Python 3",
   "language": "python",
   "name": "python3"
  },
  "language_info": {
   "codemirror_mode": {
    "name": "ipython",
    "version": 3
   },
   "file_extension": ".py",
   "mimetype": "text/x-python",
   "name": "python",
   "nbconvert_exporter": "python",
   "pygments_lexer": "ipython3",
   "version": "3.7.2"
  }
 },
 "nbformat": 4,
 "nbformat_minor": 2
}
