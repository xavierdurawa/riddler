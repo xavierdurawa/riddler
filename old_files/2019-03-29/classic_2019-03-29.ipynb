{
 "cells": [
  {
   "cell_type": "markdown",
   "metadata": {},
   "source": [
    "# Riddler Classic - March 29, 2019\n",
    "\n",
    "## Problem\n",
    "\"You are competing in a spelling bee alongside nine other contestants. You can each spell words perfectly from a certain portion of the dictionary but will misspell any word not in that portion of the book. Specifically, you have 99 percent of the dictionary down cold, and your opponents have 98 percent, 97 percent, 96 percent, and so on down to 90 percent memorized. The bee’s rules are simple: The contestants take turns spelling in some fixed order, which then restarts with the first surviving speller at the end of a round. Miss a word and you’re out, and the last speller standing wins. The bee words are chosen randomly from the dictionary.\n",
    "\n",
    "First, say the contestants go in decreasing order of their knowledge, so that you go first. What are your chances of winning the spelling bee? Second, say the contestants go in increasing order of knowledge, so that you go last. What are your chances of winning now?\"\n",
    "\n",
    "## Solution\n",
    "\n",
    "### My Approach\n",
    "Because I'm a peasant, I'm not very good at solving non-trivial statistics problems (like this one) analytically.  My first thought is that some kind of Markov chain could be used but idk.  Instead, I'm going to cheat and program a simple monte carlo model.  Assuming the problem is modeled correctly, this should give me reasonably good approximate answers.  \n",
    "\n",
    "### The Code\n",
    "First lets import a couple of handy packages"
   ]
  },
  {
   "cell_type": "code",
   "execution_count": 37,
   "metadata": {},
   "outputs": [],
   "source": [
    "import random\n",
    "from collections import deque, Counter, namedtuple\n",
    "from matplotlib import pyplot as plt"
   ]
  },
  {
   "cell_type": "markdown",
   "metadata": {},
   "source": [
    "The next section of code is going to look a little funny because...\n",
    "1. I'm not a good programmer and\n",
    "2. I tried to to implement the monte carlo model using object-oriented programming. Jupyter notebooks are not ideal for object-oriented code but I didn't feel much like changing my code. \n",
    "\n",
    "Below is a supporting class (that I shamelessly ripped off of Stack) that implements a cyclic list that elements can safely (at least I hope so) be removed from. It is supposed to represent the progression of contestants in the Spelling Bee (i.e. after the last person spells their word, we return to the first person that's still remaining). Ultimately the details here aren't very important."
   ]
  },
  {
   "cell_type": "code",
   "execution_count": 38,
   "metadata": {},
   "outputs": [],
   "source": [
    "class Modifiable_Cycle(object):\n",
    "    def __init__(self, items=()):\n",
    "        self.deque = deque(items)\n",
    "        self.length = len(self.deque)\n",
    "    \n",
    "    def __iter__(self):\n",
    "        return self\n",
    "    \n",
    "    def __next__(self):\n",
    "        if not self.deque:\n",
    "            raise StopIteration\n",
    "        item = self.deque.popleft()\n",
    "        self.deque.append(item)\n",
    "        return item\n",
    "    \n",
    "    next = __next__\n",
    "\n",
    "    def delete_current(self):\n",
    "        self.deque.pop()\n",
    "        self.length -= 1\n",
    "    \n",
    "    def get_length(self):\n",
    "        return self.length"
   ]
  },
  {
   "cell_type": "markdown",
   "metadata": {},
   "source": [
    "Now let's get to the meet and potatoes. The following class implements the Spelling Bee competition as a class. The **compete** function runs through the competition once and **run_trials** function runs the **compete** function **num_trails** times and tracks the results.  "
   ]
  },
  {
   "cell_type": "code",
   "execution_count": 39,
   "metadata": {},
   "outputs": [],
   "source": [
    "class Spelling_Bee(object):\n",
    "    def __init__(self, players):\n",
    "        \"\"\"Create a Spelling Bee object\n",
    "\n",
    "        Arguments:\n",
    "        players -- a list of the players as named tuples\n",
    "        \"\"\"\n",
    "        assert len(players) > 1, \"One or more players must be in the Spelling Bee\"\n",
    "        self.players = players\n",
    "\n",
    "    def compete(self):\n",
    "        remaining_players = Modifiable_Cycle(self.players)\n",
    "        for p in remaining_players:\n",
    "            if remaining_players.get_length() == 1:\n",
    "                return p\n",
    "            elif random.random() > p.prob_correct:\n",
    "                remaining_players.delete_current()\n",
    "            else:\n",
    "                continue\n",
    "\n",
    "    def run_trials(self, num_trials):\n",
    "        cnt = Counter()\n",
    "        for t in range(num_trials):\n",
    "            cnt[self.compete()] += 1\n",
    "        return cnt"
   ]
  },
  {
   "cell_type": "markdown",
   "metadata": {},
   "source": [
    "Now lets go ahead and use this class to run our monte carlo simulation and get some answers. Right now, the number of trials being run is 1000 simply because the results it produces are respresentative and don't take long to calculate.  Obviously more trials will help the solution converge.   \n",
    "**Note:** In both the forward and reverse case, you (i.e. the player with a 99% chance of answering correctly) are player #1.  "
   ]
  },
  {
   "cell_type": "code",
   "execution_count": 40,
   "metadata": {},
   "outputs": [
    {
     "data": {
      "image/png": "[encoded data removed]",
      "text/plain": [
       "<Figure size 432x288 with 1 Axes>"
      ]
     },
     "metadata": {
      "needs_background": "light"
     },
     "output_type": "display_data"
    }
   ],
   "source": [
    "if __name__ == \"__main__\":\n",
    "    \n",
    "    Player = namedtuple('Player', ['name', 'prob_correct'])\n",
    "    players = tuple(Player(i, (100-i)/100) for i in range(1,10+1))\n",
    "    num_trials = 1000\n",
    "    \n",
    "    # Run the simulation with you (99% correct) starting\n",
    "    sb = Spelling_Bee(players)\n",
    "    results = sb.run_trials(num_trials)\n",
    "    plot_data_x, plot_data_y = zip(*[(p[0].name, p[1]/num_trials) for p in results.items()])\n",
    "\n",
    "    # Run the simulation with you (99% correct) last\n",
    "    players_rev = tuple(reversed(players))\n",
    "    sb = Spelling_Bee(players_rev)\n",
    "    results_rev = sb.run_trials(num_trials)\n",
    "    plot_data_x_rev, plot_data_y_rev = zip(*[(p[0].name, p[1]/num_trials) for p in results_rev.items()])\n",
    "    \n",
    "    fig = plt.figure()\n",
    "    ax = fig.add_subplot(111)\n",
    "    ax.plot(plot_data_x, plot_data_y, 'bo', label=\"You're first\")\n",
    "    ax.plot(plot_data_x_rev, plot_data_y_rev, 'ro', label=\"You're last\")\n",
    "    plt.legend(loc='upper right')\n",
    "    plt.ylabel('Probability of Winning')\n",
    "    plt.xlabel('Player')\n",
    "    plt.show()"
   ]
  },
  {
   "cell_type": "markdown",
   "metadata": {},
   "source": [
    "OK, looks like being the first vs. being the last doesn't make a big difference but going last does help a little bit.  I suspect this might be becuase all of the players have a relatively high chance of correctly answering.  If players were less likely to answer correctly, I think the ordering might matter more.  \n",
    "\n",
    "Here's a print out of the results. Sorry they aren't in order. I didn't feel like ordering them :/  "
   ]
  },
  {
   "cell_type": "code",
   "execution_count": 41,
   "metadata": {},
   "outputs": [
    {
     "name": "stdout",
     "output_type": "stream",
     "text": [
      "Case where you're starting:\n",
      "  Player 1: 0.5207\n",
      "  Player 6: 0.0214\n",
      "  Player 4: 0.0617\n",
      "  Player 3: 0.1088\n",
      "  Player 2: 0.2159\n",
      "  Player 9: 0.0073\n",
      "  Player 10: 0.005\n",
      "  Player 7: 0.0152\n",
      "  Player 5: 0.0355\n",
      "  Player 8: 0.0085\n",
      "Case where you're last:\n",
      "  Player 3: 0.1083\n",
      "  Player 5: 0.0326\n",
      "  Player 1: 0.5233\n",
      "  Player 2: 0.2203\n",
      "  Player 6: 0.0207\n",
      "  Player 4: 0.0619\n",
      "  Player 7: 0.0139\n",
      "  Player 8: 0.0086\n",
      "  Player 9: 0.0063\n",
      "  Player 10: 0.0041\n"
     ]
    }
   ],
   "source": [
    "    print(\"Case where you're starting:\")\n",
    "    print('\\n'.join('  Player {0}: {1}'.format(p[0].name, p[1]/num_trials) for p in results.items()))\n",
    "\n",
    "    print(\"Case where you're last:\")\n",
    "    print('\\n'.join('  Player {0}: {1}'.format(p[0].name, p[1]/num_trials) for p in results_rev.items()))"
   ]
  },
  {
   "cell_type": "markdown",
   "metadata": {},
   "source": [
    "As always, there are a variety of ways to improve on this solution/code. Here are a few:\n",
    "1. solve the problem analytically to veryify the results of the monte carlo simulation,\n",
    "2. add some statistics to the results to see if the the order actually made a staticstically significant difference (error bars would be an easy next step),\n",
    "3. I have not done much work parallelizing code but I suspect this simulation could easily be parallelize by running **x** number of trials on each node and then summing the results at the end.  \n",
    "4. I have a feeling there may be a way to accelerate the progress of each trial while still maintaing the same results by lowering the probablity of each player answering correctly but maintaining the relative probability between the various players.  "
   ]
  },
  {
   "cell_type": "code",
   "execution_count": null,
   "metadata": {},
   "outputs": [],
   "source": []
  }
 ],
 "metadata": {
  "kernelspec": {
   "display_name": "Python 3",
   "language": "python",
   "name": "python3"
  },
  "language_info": {
   "codemirror_mode": {
    "name": "ipython",
    "version": 3
   },
   "file_extension": ".py",
   "mimetype": "text/x-python",
   "name": "python",
   "nbconvert_exporter": "python",
   "pygments_lexer": "ipython3",
   "version": "3.7.2"
  }
 },
 "nbformat": 4,
 "nbformat_minor": 2
}
