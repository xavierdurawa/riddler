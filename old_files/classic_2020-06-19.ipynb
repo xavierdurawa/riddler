{
 "cells": [
  {
   "cell_type": "markdown",
   "metadata": {},
   "source": [
    "# Riddler Classic - [June 19, 2020](https://fivethirtyeight.com/features/can-you-flip-the-magic-coin/)"
   ]
  },
  {
   "cell_type": "markdown",
   "metadata": {},
   "source": [
    "## Problem\n",
    "_King Auric adored his most prized possession: a set of perfect spheres of solid gold. There was one of each size, with diameters of 1 centimeter, 2 centimeters, 3 centimeters, and so on. Their brilliant beauty brought joy to his heart. After many years, he felt the time had finally come to pass the golden spheres down to the next generation — his three children._\n",
    "\n",
    "_He decided it was best to give each child precisely one-third of the total gold by weight, but he had a difficult time determining just how to do that. After some trial and error, he managed to divide his spheres into three groups of equal weight. He was further amused when he realized that his collection contained the minimum number of spheres needed for this division. How many golden spheres did King Auric have?_\n",
    "\n",
    "_Extra credit: How many spheres would the king have needed to be able to divide his collection among other numbers of children: two, four, five, six or even more?_"
   ]
  },
  {
   "cell_type": "markdown",
   "metadata": {},
   "source": [
    "## Solution (incorrect)\n",
    "Let's be ambitious and go right for the general solution where the king has $k$ children. \n",
    "\n",
    "To rephrase the problem in mathematical terms, we need to a set of size $n$ with the form $\\{1,2,3, \\cdots ,n\\}$ that can be partitioned into $k$ subsets which all have the same sum. Let's a call a set with these properties partitionable.  \n",
    "<br>  \n",
    "\n",
    "Our first observation is that there is always a set of size $n=2k$ that is partitionable. To see this, note that we can pair element $1$ of the set with element $2k$, element $2$ with $2k-1$, etc. It is clear that this will form $k$ partitions all of which have a sum of $2k+1$ which satisfies the conditions for being partitionable.  Now the question is can we do better.    \n",
    "<br>   \n",
    "  \n",
    "Our next observation is that in order for the set of size $n$ to be partitionable, then $k$ has to divide $\\frac{n(n+1)}{2}$ (which is the sum of all the elements in the set) evenly.  We said above that there is always a set of size $n=2k$ that satisfies is partitionable.  We would then expect $k$ to evenly divide $\\frac{2k(2k+1)}{2}$ which it obvious does.  But $(2k-1)2k$ also obviously works.  This suggests that a set of size $n=2k-1$ might also be partitionable.  If you try a few examples, it becomes clear that this set always works as well. So for any k, the set of size $n=2k-1$ is partitionable. But can we do even better?  \n",
    "<br>   \n",
    "  \n",
    "For our last observation, we note that a set of size $n$ won't be partitionable if it's larger than $\\frac{n(n+1)}{2k}$. To see why this is case, note that for a partitionable set of size $n$, each of the subsets would need to have a sum of $\\frac{n(n+1)}{2k}$.  If $n>\\frac{n(n+1)}{2k}$ then there is an element of the set that is already larger than the necessary subset size, meaning the set can't be partitioned as we would like.  Therefore, $n \\leq \\frac{n(n+1)}{2k}$ must be satisfied if the set is partitionable. Rearranging $n \\leq \\frac{n(n+1)}{2k}$ we get $n \\geq 2k-1$. In the paragraph above, we determined that a set of size $n=2k-1$ can always be partitioned.  Since a set of that size can always be formed and its the minimum possible set size, we have our answer. The smallest set that can be partitioned into k subsets such that they all have the same sum is of size $n=2k-1$.\n",
    "<br>\n",
    "\n",
    "Now that we have the general solution (i.e. extra credit) it is trivial answering the question.  When the king has 3 children, the minimum number of golden spheres he needs in order to give each child an equal mass of gold is $n=2k-1|k=3 \\rightarrow n=5$"
   ]
  }
 ],
 "metadata": {
  "language_info": {
   "codemirror_mode": {
    "name": "ipython",
    "version": 3
   },
   "file_extension": ".py",
   "mimetype": "text/x-python",
   "name": "python",
   "nbconvert_exporter": "python",
   "pygments_lexer": "ipython3",
   "version": 3
  },
  "orig_nbformat": 2
 },
 "nbformat": 4,
 "nbformat_minor": 2
}