{
 "cells": [
  {
   "cell_type": "markdown",
   "metadata": {},
   "source": [
    "# [Problem](https://thefiddler.substack.com/p/can-you-shut-the-box)\n",
    "\n",
    "_In a simplified version of Shut the Box, there are six initially unflipped tiles, numbered 1-6, on the side of a box. You roll a fair, six-sided die, after which you can flip down any combination of unflipped tiles that add to the roll. For example, if you roll a 5, you could flip down the 5, the 1 and the 4, or the 2 and the 3. You proceed until no set of flips is possible (e.g., you rolled a 3 but your only remaining tiles are 2 and 6). To win, you must flip down all six tiles._\n",
    "\n",
    "_Assuming you play with an optimal strategy (i.e., maximizing your chances of winning after any given roll), what is the probability that you’ll win?_"
   ]
  },
  {
   "cell_type": "markdown",
   "metadata": {},
   "source": [
    "# Solution [Incorrect]\n",
    "\n",
    "First things first, if we want to find the probability, we'll first need to first determine optimal play. Intuitively, we should always try to flip the tile of the number we rolled (i.e. largest possible tiles we can flip) since the larger numbers are harder to flip (6 can only be flipped if you roll a 6 while 1 can be flipped on any roll except for a 2). But what if the number you rolled isn't available? While I'm not sure of this, I think the optimality of the choice is only dependent on the number of tiles you file, the goal being to flip as few as possible and to flip the largest numbers.\n",
    "\n",
    "In order to win, we know we must roll a total of $21$. Let's go backwards starting with all tiles flipped to figure out which rolls work\n",
    "\n",
    "$ S = \\{1,2,3,4,5,6\\} $\n",
    "\n",
    "To get the willing roll combinations, we can combine elements such that we remove the two elements we combine, add their sum to the set, and only perform this operation if the sum is $\\leq 6$. For example\n",
    "\n",
    "$ S = \\{2,4,4,5,6\\} \\text{ combination of 1 and 3}$\n",
    "\n",
    "$ S = \\{3,6,6,6\\} \\text{ combination of (1,5) and (2,4)}$\n",
    "\n",
    "are valid.\n",
    "\n",
    "After playing around for a while trying to figure out some nice analytic way of doing this, I finally gave up and used a computer to generate all of these combinations. We will want to make sure though that we are efficient with our implementation since naive implementations can easily result in very high time complexities. "
   ]
  },
  {
   "cell_type": "code",
   "execution_count": 10,
   "metadata": {},
   "outputs": [
    {
     "name": "stdout",
     "output_type": "stream",
     "text": [
      "All possible resulting sets for S = {1, 2, 3, 4, 5, 6 } with combination threshold k = 6:\n",
      "Total number of unique sets: 10\n",
      "(3, 6, 6, 6)\n",
      "(4, 5, 6, 6)\n",
      "(5, 5, 5, 6)\n",
      "(1, 3, 5, 6, 6)\n",
      "(1, 4, 5, 5, 6)\n",
      "(2, 3, 4, 6, 6)\n",
      "(2, 3, 5, 5, 6)\n",
      "(2, 4, 4, 5, 6)\n",
      "(3, 3, 4, 5, 6)\n",
      "(1, 2, 3, 4, 5, 6)\n"
     ]
    }
   ],
   "source": [
    "from itertools import combinations\n",
    "from collections import Counter\n",
    "\n",
    "def generate_all_sets_custom_range(n_l, n_h, k):\n",
    "    \"\"\"\n",
    "    Generates all possible unique sets by combining elements of S = {n_l, n_l+1, ..., n_h}\n",
    "    according to the specified combination rules with threshold k.\n",
    "\n",
    "    Parameters:\n",
    "    n_l (int): The lower bound integer in the initial set S.\n",
    "    n_h (int): The upper bound integer in the initial set S. Must satisfy n_h >= n_l.\n",
    "    k (int): The maximum allowed sum for any two elements to be combined.\n",
    "\n",
    "    Returns:\n",
    "    set of tuples: All unique sets generated during the combination process.\n",
    "    \"\"\"\n",
    "    # Validate inputs\n",
    "    if not isinstance(n_l, int) or not isinstance(n_h, int) or not isinstance(k, int):\n",
    "        raise TypeError(\"All inputs must be integers.\")\n",
    "    if n_h < n_l:\n",
    "        raise ValueError(\"Upper bound n_h must be greater than or equal to lower bound n_l.\")\n",
    "    if k < (2 * n_l):\n",
    "        # If the smallest possible sum exceeds k, no combinations are possible\n",
    "        print(\"No combinations possible since the smallest possible sum exceeds k.\")\n",
    "    \n",
    "    # Initialize the starting set S = {n_l, n_l+1, ..., n_h}\n",
    "    initial_set = list(range(n_l, n_h + 1))\n",
    "    all_sets = set()          # To store all unique sets\n",
    "    processed = set()         # To keep track of already processed sets\n",
    "\n",
    "    def recurse(current_counter):\n",
    "        # Convert the current Counter to a sorted tuple for hashing\n",
    "        sorted_set = tuple(sorted(current_counter.elements()))\n",
    "        \n",
    "        if sorted_set in processed:\n",
    "            return\n",
    "        processed.add(sorted_set)\n",
    "        all_sets.add(sorted_set)\n",
    "        \n",
    "        # Flag to check if any combination is possible\n",
    "        combination_possible = False\n",
    "        \n",
    "        # Generate all unique pairs to attempt combination\n",
    "        unique_elements = list(current_counter.elements())\n",
    "        for a, b in combinations(unique_elements, 2):\n",
    "            s = a + b\n",
    "            if s <= k:\n",
    "                combination_possible = True\n",
    "                # Create a new Counter: remove a and b, add their sum\n",
    "                new_counter = current_counter.copy()\n",
    "                new_counter[a] -= 1\n",
    "                new_counter[b] -= 1\n",
    "                if new_counter[a] == 0:\n",
    "                    del new_counter[a]\n",
    "                if new_counter[b] == 0:\n",
    "                    del new_counter[b]\n",
    "                new_counter[s] += 1\n",
    "                \n",
    "                # Recursively process the new set\n",
    "                recurse(new_counter)\n",
    "        \n",
    "        # If no further combinations are possible, continue\n",
    "        # (Since we're collecting all sets, no action needed here)\n",
    "\n",
    "    # Start the recursion with the initial set represented as a Counter\n",
    "    initial_counter = Counter(initial_set)\n",
    "    recurse(initial_counter)\n",
    "    \n",
    "    return all_sets\n",
    "\n",
    "n_l = 1  # Lower bound (can be any integer)\n",
    "n_h = 6  # Upper bound (must be >= n_l)\n",
    "k = 6    # Combination threshold\n",
    "\n",
    "# Generate all sets\n",
    "result = generate_all_sets_custom_range(n_l, n_h, k)\n",
    "\n",
    "# Sort the results for better readability\n",
    "sorted_result = sorted(result, key=lambda x: (len(x), x))\n",
    "\n",
    "print(f\"All possible resulting sets for S = {{{n_l}, {', '.join(map(str, range(n_l +1, n_h +1)))} }} with combination threshold k = {k}:\")\n",
    "print(f\"Total number of unique sets: {len(sorted_result)}\")\n",
    "for res_set in sorted_result:\n",
    "    print(res_set)\n"
   ]
  },
  {
   "cell_type": "code",
   "execution_count": 11,
   "metadata": {},
   "outputs": [],
   "source": [
    "# Function to compute the multinomial coefficient\n",
    "def multinomial_coefficient(s):\n",
    "    \"\"\"\n",
    "    Computes the multinomial coefficient for the given set s.\n",
    "\n",
    "    Parameters:\n",
    "    s (tuple): The set for which to compute the multinomial coefficient.\n",
    "\n",
    "    Returns:\n",
    "    int: The computed multinomial coefficient.\n",
    "    \"\"\"\n",
    "    # Compute the factorial of the sum of all elements\n",
    "    numerator = 1\n",
    "    for i in s:\n",
    "        numerator *= i\n",
    "    denominator = 1\n",
    "    for i in Counter(s).values():\n",
    "        denominator *= i\n",
    "    return numerator // denominator"
   ]
  },
  {
   "cell_type": "code",
   "execution_count": 1,
   "metadata": {},
   "outputs": [
    {
     "ename": "NameError",
     "evalue": "name 'sorted_result' is not defined",
     "output_type": "error",
     "traceback": [
      "\u001b[0;31m---------------------------------------------------------------------------\u001b[0m",
      "\u001b[0;31mNameError\u001b[0m                                 Traceback (most recent call last)",
      "Cell \u001b[0;32mIn[1], line 2\u001b[0m\n\u001b[1;32m      1\u001b[0m \u001b[38;5;66;03m# Compute the multinomial coefficient for each set\u001b[39;00m\n\u001b[0;32m----> 2\u001b[0m coefficients \u001b[38;5;241m=\u001b[39m [multinomial_coefficient(s) \u001b[38;5;28;01mfor\u001b[39;00m s \u001b[38;5;129;01min\u001b[39;00m sorted_result]\n\u001b[1;32m      4\u001b[0m \u001b[38;5;66;03m# Compute the probability\u001b[39;00m\n\u001b[1;32m      5\u001b[0m \u001b[38;5;66;03m# prob = sum(coefficients * (1/6)**len(s) for s, coefficients in zip(sorted_result, coefficients))\u001b[39;00m\n\u001b[1;32m      6\u001b[0m prob \u001b[38;5;241m=\u001b[39m \u001b[38;5;28msum\u001b[39m(coefficients) \u001b[38;5;241m/\u001b[39m (n_h \u001b[38;5;241m-\u001b[39m n_l \u001b[38;5;241m+\u001b[39m \u001b[38;5;241m1\u001b[39m)\u001b[38;5;241m*\u001b[39m\u001b[38;5;241m*\u001b[39m(n_h \u001b[38;5;241m-\u001b[39m n_l \u001b[38;5;241m+\u001b[39m \u001b[38;5;241m1\u001b[39m)\n",
      "\u001b[0;31mNameError\u001b[0m: name 'sorted_result' is not defined"
     ]
    }
   ],
   "source": [
    "# Compute the multinomial coefficient for each set\n",
    "coefficients = [multinomial_coefficient(s) for s in sorted_result]\n",
    "\n",
    "# Compute the probability\n",
    "# prob = sum(coefficients * (1/6)**len(s) for s, coefficients in zip(sorted_result, coefficients))\n",
    "prob = sum(coefficients) / (n_h - n_l + 1)**(n_h - n_l + 1)\n",
    "print(f\"\\nProbability of generating a set with sum <= {k}: {prob:.6f}\")"
   ]
  }
 ],
 "metadata": {
  "kernelspec": {
   "display_name": "puzzling",
   "language": "python",
   "name": "python3"
  },
  "language_info": {
   "codemirror_mode": {
    "name": "ipython",
    "version": 3
   },
   "file_extension": ".py",
   "mimetype": "text/x-python",
   "name": "python",
   "nbconvert_exporter": "python",
   "pygments_lexer": "ipython3",
   "version": "3.12.5"
  }
 },
 "nbformat": 4,
 "nbformat_minor": 2
}
