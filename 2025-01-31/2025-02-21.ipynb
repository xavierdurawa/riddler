{
 "cells": [
  {
   "cell_type": "markdown",
   "metadata": {},
   "source": [
    "# [Can you defend your trivia knowledge?](https://thefiddler.substack.com/p/can-you-defend-your-trivia-knowledge)\n",
    "## February 21 2025"
   ]
  },
  {
   "cell_type": "markdown",
   "metadata": {},
   "source": [
    "## Problem\n",
    "\n",
    "_Anyway, here’s how it works: Every day, you and your opponent for the day are presented with the same six trivia questions. You each do your best to answer these, and you assign point values for your opponent, without knowing (until the following day) which questions your opponent answered correctly. You must assign point values of 0, 1, 1, 2, 2, and 3 to the six questions._\n",
    "\n",
    "_For example, suppose I assigned values of 1, 2, 0, 3, 2, and 1 to the six questions, in order. Unbeknownst to me, my opponent answers the first, third, and fourth questions correctly. That means they get 1 + 0 + 3, or 4 points for the match. My own score depends on which questions I got right, and how these were scored by my opponent. If I get more than 4 points, I win the match._\n",
    "\n",
    "_Now, when someone answers three questions correctly, like my opponent just hypothetically did, the fewest points they can earn is 0 + 1 + 1 = 2, while the most points they can earn is 2 + 2 + 3 = 7. The fact that they got 4 points wasn’t great (from my perspective), but wasn’t terrible. In LearnedLeague, my defensive efficiency is defined as the maximum possible points allowed minus actual points allowed, divided by the maximum possible points allowed minus the minimum possible points allowed. Here, that was (7−4)/(7−2), which simplified to 3/5, or 60 percent._\n",
    "\n",
    "_By this definition, defensive efficiency ranges somewhere between 0 and 100 percent. (That is, assuming it’s even defined—which it’s not when your opponent gets zero questions right or all six questions right.)_\n",
    "\n",
    "_Suppose you know for a fact that your opponent will get two questions right. However, you have absolutely no idea which two questions these are, and so you randomly apply the six point values to the six questions._\n",
    "\n",
    "_What is the probability that your defensive efficiency for the day will be greater than 50 percent?_"
   ]
  },
  {
   "cell_type": "markdown",
   "metadata": {},
   "source": [
    "## Solution\n",
    "\n",
    "The maximum score is 5 and the minimum score is 1. The random element of this problem is the actual score $S$ of the opponent:\n",
    "\n",
    "$$ e = \\frac{5-S}{4} $$\n",
    "\n",
    "We want the distribution of $S$. In particular we want the probability of $S \\geq 4$ in order to ensure $e > 0.5$.\n",
    "\n",
    "We can compute the number of ways to assign the scores but let's make this a bit easier and generalizable. There are $\\binom{6}{2}$ ways to choose the two questions that are answered correctly, there are 3 ways to choose the values to get a score of 4 and there are 2 ways to choose the values to get a score of 5. So we have:]\n",
    "$$ P(S \\geq 4) = \\frac{3+2}{\\binom{6}{2}} = \\frac{5}{15} $$\n",
    "so the probability of $e > 0.5$ is $\\frac{1}{3}$."
   ]
  },
  {
   "cell_type": "markdown",
   "metadata": {},
   "source": [
    "## Extra Credit\n",
    "\n",
    "_Now suppose your opponent is equally likely to get one, two, three, four, or five questions correct._\n",
    "\n",
    "_As before, you randomly apply the six point values (0, 1, 1, 2, 2, 3) to the six questions._\n",
    "\n",
    "_What is the probability that your defensive efficiency will be greater than 50 percent?_"
   ]
  },
  {
   "cell_type": "code",
   "execution_count": null,
   "metadata": {
    "vscode": {
     "languageId": "plaintext"
    }
   },
   "outputs": [],
   "source": []
  }
 ],
 "metadata": {
  "language_info": {
   "name": "python"
  }
 },
 "nbformat": 4,
 "nbformat_minor": 2
}
