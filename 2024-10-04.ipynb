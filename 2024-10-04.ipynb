{
 "cells": [
  {
   "cell_type": "markdown",
   "metadata": {},
   "source": [
    "# [How Many Dice Can You Roll the Same?](https://thefiddler.substack.com/p/how-many-dice-can-you-roll-the-same)\n",
    "## October 4 2024"
   ]
  },
  {
   "cell_type": "markdown",
   "metadata": {},
   "source": [
    "## Problem\n",
    "\n",
    "_To get started, you roll all 10 dice—whichever number comes up most frequently becomes your target number. In the event multiple numbers come up most frequently, you can choose your target number from among them. At this point, you put aside all the dice that came up with your target number._\n",
    "\n",
    "_From there, you continue rolling any remaining dice, putting aside any that come up with your target number. Once all 10 dice show the same number, you yell, “Tenzi!” If you’re the first to do so, you win._\n",
    "\n",
    "_Now, consider a simplified version of the game in which you begin with three total dice (call it “THREEZI”)._\n",
    "\n",
    "_On average, how many dice will you put aside after first rolling all three?_"
   ]
  },
  {
   "cell_type": "markdown",
   "metadata": {},
   "source": [
    "## Solution\n",
    "\n",
    "We are finding an expectation here. The case with three dice isn't too hard to figure out by hand. The probability of 1 die being set aside is the same as all three being different\n",
    "\n",
    "$$ P(D=1) = \\frac{6}{6} \\cdot \\frac{5}{6} \\cdot \\frac{4}{6} = \\frac{5}{9}$$\n",
    "\n",
    "The probability of 2 dice being set aside is the same as two of the dice being the same and the third being different. There's 3 choose 2 ways to pick the two dice that are the same.\n",
    "\n",
    "$$ P(D=2) = 3 \\cdot \\frac{6}{6} \\cdot \\frac{1}{6} \\cdot \\frac{5}{6} = \\frac{5}{12}$$\n",
    "\n",
    "The probability of 3 dice being set aside is the same as all three being the same.\n",
    "\n",
    "$$ P(D=3) = \\frac{6}{6} \\cdot \\frac{1}{6} \\cdot \\frac{1}{6} = \\frac{1}{36}$$\n",
    "\n",
    "The expected number of dice set aside is then\n",
    "\n",
    "$$ E(D) = 1 \\cdot P(D=1) + 2 \\cdot P(D=2) + 3 \\cdot P(D=3) = \\frac{5}{9} + \\frac{10}{12} + \\frac{1}{12} = \\boxed{\\frac{53}{36}}$$\n",
    "\n",
    "## Extra Credit\n",
    "\n",
    "This one is bit more complicated. We probably want a more systematic approach.  First, there are %6^{10}$ possible outcomes.\n",
    "\n",
    "For 10 dice, there are 6 ways to choose the target number. \n",
    "\n",
    "$$ P(D=10) = \\frac{6}{6^{10}} $$\n",
    "\n",
    "For 9 dice, there are 6 ways to choose the target number and 5 ways to choose the last die.\n",
    "\n",
    "$$ P(D=9) = \\frac{6 \\cdot 5}{6^{10}} $$\n",
    "\n",
    "Continuing this pattern, we get\n",
    "\n",
    "$$ P(D=8) = \\frac{6 \\cdot 5 \\cdot 4}{6^{10}} $$\n",
    "\n",
    "$$ P(D=7) = \\frac{6 \\cdot 5 \\cdot 4 \\cdot 3}{6^{10}} $$\n",
    "$$ P(D=6) = \\frac{6 \\cdot 5 \\cdot 4 \\cdot 3 \\cdot 2}{6^{10}} $$\n",
    "$$ P(D=5) = \\frac{6 \\cdot 5 \\cdot 4 \\cdot 3 \\cdot 2 \\cdot 1}{6^{10}} $$\n",
    "\n",
    "Now here's where things get a bit tricky. When consider a max of 4 dice being set aside, we need to ensure that the remaining dice don't have a cluster of greater than 4. To do this, we will first generate each of the ways of partitioning the 10 dice into groups of at most 6 where no group has more than 4. Then for each of these combinations, we will calculate the probability of this roll.  Our formula for each will be \n",
    "\n",
    "$$ \\text{(Multinomial coefficient)} * \\frac{6!}{\\text{(\\# of unused numbers)}! * \\prod \\text{(\\# of repeated group sizes)}!} $$\n",
    "\n"
   ]
  },
  {
   "cell_type": "code",
   "execution_count": 22,
   "metadata": {},
   "outputs": [],
   "source": [
    "def generate_partitions_with_k(n, m, k, current_partition=[], current_sum=0, must_include_k=True, result=None, max_part=None):\n",
    "    \"\"\"\n",
    "    Recursive function to generate partitions and return them in a list.\n",
    "    \n",
    "    Parameters:\n",
    "    - n: total sum to partition\n",
    "    - m: max number of parts\n",
    "    - k: largest part size\n",
    "    - current_partition: current partition being built\n",
    "    - current_sum: current sum of the partition\n",
    "    - must_include_k: whether to force at least one group to be of size k\n",
    "    - result: list to accumulate partitions (defaults to None, initialized in the first call)\n",
    "    - max_part: upper limit for parts (enforces non-increasing order)\n",
    "    \n",
    "    Returns:\n",
    "    - A list of valid partitions\n",
    "    \"\"\"\n",
    "    \n",
    "    if result is None:\n",
    "        result = []\n",
    "    \n",
    "    # Base case: if current sum equals n, add the partition to the result list\n",
    "    if current_sum == n:\n",
    "        result.append(current_partition)\n",
    "        return result\n",
    "    \n",
    "    # If you exceed the number of parts, stop\n",
    "    if len(current_partition) >= m:\n",
    "        return result\n",
    "    \n",
    "    # Set the maximum part we can use (initially k, then progressively smaller values to maintain order)\n",
    "    if max_part is None:\n",
    "        max_part = k\n",
    "    \n",
    "    # If we must include at least one part of size k, start with k\n",
    "    if must_include_k:\n",
    "        if current_sum + k <= n:\n",
    "            generate_partitions_with_k(n, m, k, current_partition + [k], current_sum + k, False, result, k)\n",
    "    else:\n",
    "        # If k has already been used, proceed as usual considering parts from 1 to max_part\n",
    "        for i in range(1, max_part + 1):\n",
    "            if current_sum + i <= n:\n",
    "                generate_partitions_with_k(n, m, k, current_partition + [i], current_sum + i, False, result, i)\n",
    "    \n",
    "    return result\n"
   ]
  },
  {
   "cell_type": "code",
   "execution_count": 23,
   "metadata": {},
   "outputs": [],
   "source": [
    "from math import factorial\n",
    "from collections import Counter\n",
    "\n",
    "def compute_rolls_for_partition(partition, n):\n",
    "    \"\"\"\n",
    "    Compute the number of ways to roll dice based on the given partition.\n",
    "    \n",
    "    Parameters:\n",
    "    - partition: a list representing the partition (e.g., [3, 3, 1])\n",
    "    - n: the number of dice or the number being partitioned\n",
    "    \n",
    "    Returns:\n",
    "    - The number of ways to assign dice values to this partition\n",
    "    \"\"\"\n",
    "    \n",
    "    # 6! because there are 6 possible values on the dice\n",
    "    # Factorial part to account for how to assign values to dice\n",
    "    partition_size = len(partition)\n",
    "    total_ways = factorial(6) // factorial(6 - partition_size)\n",
    "    \n",
    "    # Compute the frequency of each part size (e.g., [3, 3, 1] -> {3: 2, 1: 1})\n",
    "    counts = Counter(partition)\n",
    "    \n",
    "    # Multiply by the multinomial denominator to account for indistinguishable groups\n",
    "    for count in counts.values():\n",
    "        total_ways //= factorial(count)\n",
    "    \n",
    "    # Now compute how to order the dice\n",
    "    # Factorial of the total number of dice divided by the factorials of identical groups\n",
    "    total_ways *= factorial(n)\n",
    "    for part in partition:\n",
    "        total_ways //= factorial(part)\n",
    "    \n",
    "    return total_ways"
   ]
  },
  {
   "cell_type": "code",
   "execution_count": 57,
   "metadata": {},
   "outputs": [
    {
     "name": "stdout",
     "output_type": "stream",
     "text": [
      "(0, 10)\n",
      "n = 10:P = 9.92290301275212e-08\n",
      "(1, 9)\n",
      "n = 9:P = 4.9614515063760605e-06\n",
      "(2, 8)\n",
      "n = 8:P = 0.00011163265889346136\n",
      "(3, 7)\n",
      "n = 7:P = 0.0014884354519128181\n",
      "(4, 6)\n",
      "n = 6:P = 0.013023810204237159\n",
      "(5, 5)\n",
      "n = 5:P = 0.07814286122542295\n"
     ]
    }
   ],
   "source": [
    "counts = []\n",
    "\n",
    "def combinations(n, k):\n",
    "    return factorial(n) // (factorial(k) * factorial(n - k))\n",
    "\n",
    "for i, n in enumerate(range(10, 4, -1)):\n",
    "    print((i, n))\n",
    "    count = 6 * combinations(10,i) * 5**i\n",
    "    counts.append(count)\n",
    "    print(f\"n = {n}:P = {count/6**10}\")"
   ]
  },
  {
   "cell_type": "code",
   "execution_count": 35,
   "metadata": {},
   "outputs": [
    {
     "name": "stdout",
     "output_type": "stream",
     "text": [
      "[[4, 2, 1, 1, 1, 1], [4, 2, 2, 1, 1], [4, 2, 2, 2], [4, 3, 1, 1, 1], [4, 3, 2, 1], [4, 3, 3], [4, 4, 1, 1], [4, 4, 2]]\n",
      "n = 4:P = 0.31048763526901385\n",
      "[[3, 2, 2, 1, 1, 1], [3, 2, 2, 2, 1], [3, 3, 1, 1, 1, 1], [3, 3, 2, 1, 1], [3, 3, 2, 2], [3, 3, 3, 1]]\n",
      "n = 3:P = 0.5292876467001981\n",
      "[[2, 2, 2, 2, 1, 1], [2, 2, 2, 2, 2]]\n",
      "n = 2:P = 0.06751543209876543\n"
     ]
    }
   ],
   "source": [
    "for n in range(4,1,-1):\n",
    "    # print(f\"n = {n}\")\n",
    "    partitions = generate_partitions_with_k(10, 6, n)\n",
    "    count = 0\n",
    "    print(partitions)\n",
    "    for p in partitions:\n",
    "        # print(p)\n",
    "        count += compute_rolls_for_partition(p, 10)\n",
    "    counts.append(count)\n",
    "    print(f\"n = {n}:P = {count/6**10}\")"
   ]
  },
  {
   "cell_type": "code",
   "execution_count": 36,
   "metadata": {},
   "outputs": [
    {
     "name": "stdout",
     "output_type": "stream",
     "text": [
      "3.4450592675151146\n"
     ]
    }
   ],
   "source": [
    "expectation = 0\n",
    "for i, c in enumerate(counts):\n",
    "    expectation += c/6**10 * (10-i)\n",
    "print(expectation)"
   ]
  },
  {
   "cell_type": "code",
   "execution_count": 51,
   "metadata": {},
   "outputs": [
    {
     "name": "stdout",
     "output_type": "stream",
     "text": [
      "(4358, 1265)\n"
     ]
    }
   ],
   "source": [
    "def find_fraction(decimal, tolerance=1e-9, max_denominator=10000):\n",
    "    \"\"\"\n",
    "    Find a fraction that approximates the given decimal number.\n",
    "    \n",
    "    Parameters:\n",
    "    - decimal: The decimal number to approximate.\n",
    "    - tolerance: The acceptable error for the approximation.\n",
    "    - max_denominator: The maximum value for the denominator to try.\n",
    "    \n",
    "    Returns:\n",
    "    - A tuple (numerator, denominator) that represents the fraction approximation.\n",
    "    \"\"\"\n",
    "    best_numerator = 1\n",
    "    best_denominator = 1\n",
    "    best_error = abs(decimal - best_numerator / best_denominator)\n",
    "    \n",
    "    for denominator in range(1, max_denominator + 1):\n",
    "        # Find the best possible numerator for this denominator by rounding\n",
    "        numerator = round(decimal * denominator)\n",
    "        \n",
    "        # Compute the error between the actual decimal and the fraction\n",
    "        error = abs(decimal - numerator / denominator)\n",
    "        \n",
    "        # If the error is within the tolerance, return the fraction\n",
    "        if error < tolerance:\n",
    "            return numerator, denominator\n",
    "        \n",
    "        # Update the best fraction found so far\n",
    "        if error < best_error:\n",
    "            best_numerator, best_denominator = numerator, denominator\n",
    "            best_error = error\n",
    "    \n",
    "    # If no exact match is found, return the best approximation found\n",
    "    return best_numerator, best_denominator\n",
    "\n",
    "print(find_fraction(expectation))   "
   ]
  },
  {
   "cell_type": "code",
   "execution_count": 6,
   "metadata": {},
   "outputs": [],
   "source": [
    "# Simulate a 10 dice roll and find the maximum cluster of same faced dice\n",
    "\n",
    "import random\n",
    "from collections import Counter\n",
    "\n",
    "def roll_dice():\n",
    "    return random.randint(1, 6)\n",
    "\n",
    "def play_round(n):\n",
    "    rolls = [roll_dice() for _ in range(n)]\n",
    "\n",
    "    face_counts = [0] * 6\n",
    "    for roll in rolls:\n",
    "        face_counts[roll - 1] += 1\n",
    "\n",
    "    # print(rolls)\n",
    "    # print(face_counts)\n",
    "    # print(max(face_counts))\n",
    "    max_count = max(face_counts)\n",
    "\n",
    "    return max_count"
   ]
  },
  {
   "cell_type": "code",
   "execution_count": 7,
   "metadata": {},
   "outputs": [
    {
     "name": "stdout",
     "output_type": "stream",
     "text": [
      "Probability of max cluster size 1: 0.0\n",
      "Probability of max cluster size 2: 0.067386\n",
      "Probability of max cluster size 3: 0.52976\n",
      "Probability of max cluster size 4: 0.309815\n",
      "Probability of max cluster size 5: 0.078336\n",
      "Probability of max cluster size 6: 0.013074\n",
      "Probability of max cluster size 7: 0.001512\n",
      "Probability of max cluster size 8: 0.00011\n",
      "Probability of max cluster size 9: 7e-06\n",
      "Probability of max cluster size 10: 0.0\n"
     ]
    }
   ],
   "source": [
    "# Simulate\n",
    "n = 1000000\n",
    "dice = 10\n",
    "max_cluster_size_counts = Counter()\n",
    "for _ in range(n):\n",
    "    max_cluster_size = play_round(dice)\n",
    "    max_cluster_size_counts[max_cluster_size] += 1\n",
    "\n",
    "# Show the probabilities\n",
    "for i in range(1, dice + 1):\n",
    "    print(f\"Probability of max cluster size {i}: {max_cluster_size_counts[i] / n}\")"
   ]
  },
  {
   "cell_type": "code",
   "execution_count": 69,
   "metadata": {},
   "outputs": [],
   "source": [
    "from math import ceil\n",
    "ns = [10, 20, 30, 40, 50, 60, 70, 80, 90, 100, 200]\n",
    "expectations = []\n",
    "for n in ns:\n",
    "    counts = []\n",
    "    for i in range(ceil(n/6), n+1):\n",
    "        if i >= ceil(n/2):\n",
    "            count = 6 * combinations(n,i) * 5**(n-i)\n",
    "            counts.append(count * i)\n",
    "        else:\n",
    "            partitions = generate_partitions_with_k(n, 6, i)\n",
    "            count = 0\n",
    "            for p in partitions:\n",
    "                count += compute_rolls_for_partition(p, n)\n",
    "            counts.append(count * i)\n",
    "    expectation = 0\n",
    "    for i, c in enumerate(counts):\n",
    "        expectation += c/6**n\n",
    "    expectations.append(expectation)\n",
    "    print(f\"n = {n}: {expectation}\")"
   ]
  },
  {
   "cell_type": "code",
   "execution_count": 73,
   "metadata": {},
   "outputs": [
    {
     "data": {
      "image/png": "[encoded data removed]",
      "text/plain": [
       "<Figure size 640x480 with 1 Axes>"
      ]
     },
     "metadata": {},
     "output_type": "display_data"
    }
   ],
   "source": [
    "# Graph the results and fit a line with the expected value\n",
    "import matplotlib.pyplot as plt\n",
    "\n",
    "# fit a line to the data\n",
    "from numpy.polynomial import polynomial as P\n",
    "from numpy import array\n",
    "\n",
    "# make a slice skipping the first 4 data points\n",
    "s = slice(4,None)\n",
    "\n",
    "coefs = P.polyfit(ns[s], expectations[s], 1)\n",
    "line = P.Polynomial(coefs)\n",
    "\n",
    "ns = array(ns)\n",
    "plt.plot(ns, expectations, marker='o')\n",
    "plt.plot(ns, line(ns), linestyle='--')\n",
    "plt.legend(['Expected', 'Fit'])\n",
    "plt.xlabel('Number of Dice')\n",
    "plt.ylabel('Expected Maximum Cluster Size')\n",
    "plt.title('Expected Maximum Cluster Size vs. Number of Dice')\n",
    "plt.grid(True)\n",
    "# include the slope of the line\n",
    "plt.text(100, 3.5, f\"Slope: {coefs[1]:.4f}\")\n",
    "plt.show()"
   ]
  }
 ],
 "metadata": {
  "kernelspec": {
   "display_name": "puzzling",
   "language": "python",
   "name": "python3"
  },
  "language_info": {
   "codemirror_mode": {
    "name": "ipython",
    "version": 3
   },
   "file_extension": ".py",
   "mimetype": "text/x-python",
   "name": "python",
   "nbconvert_exporter": "python",
   "pygments_lexer": "ipython3",
   "version": "3.12.5"
  }
 },
 "nbformat": 4,
 "nbformat_minor": 2
}
