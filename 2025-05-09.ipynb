{
 "cells": [
  {
   "cell_type": "markdown",
   "id": "912dca1b",
   "metadata": {},
   "source": [
    "# [Can You Sweep the Series?](https://thefiddler.substack.com/p/can-you-sweep-the-series)\n",
    "## May 9 2025"
   ]
  },
  {
   "cell_type": "markdown",
   "id": "1d35f4f6",
   "metadata": {},
   "source": [
    "## Problem\n",
    "_On the ESPN show, “First Take,” the discussion turned to the NBA’s New York Knicks, who would be facing the favored Boston Celtics in the best-of-seven Eastern Conference Semifinals. (Note that this segment aired prior to the beginning of the series.) The question was whether the Knicks were more likely to be “swept” (i.e., lose the series in four games) or for the series to go to seven games. Here’s what Stephen had to say:_\n",
    "\n",
    "_'I got [the Knicks] losing this in five games, which means they’re closer to a sweep than a seven-game series. That’s how I’m looking at it right now.'_\n",
    "\n",
    "_Let’s look at the first part of Stephen’s statement, that he believed the Knicks would lose to the Celtics in five games._\n",
    "\n",
    "_Let p represent the probability the Celtics win any given game in the series. You should assume that p is constant (which means there’s no home-court advantage) and that games are independent._\n",
    "\n",
    "_For certain values of p, the likeliest outcome is indeed that the Celtics will win the series in exactly five games. While this probability is always less than 50 percent, this outcome is more likely than the Celtics winning or losing in some other specific number of games. In particular, this range can be specified as a < p < b._\n",
    "\n",
    "_Determine the values of a and b._"
   ]
  },
  {
   "cell_type": "markdown",
   "id": "7b11b915",
   "metadata": {},
   "source": [
    "## Solution\n",
    "\n",
    "Let's first establish an expression for the probability of winning in 4, 5, 6, or 7 games. In every case, you win 4 games and must win the last game in order for the series to have actually ended at that number of games. With that we can emplot a modification of the binomial theorem to determine the probability. \n",
    "\n",
    "$$\n",
    "\\begin{align*}\n",
    "&p_4 = \\binom{3}{3} p^4 (1-p)^0 \\\\\n",
    "&p_5 = \\binom{4}{3} p^4 (1-p)^1 \\\\\n",
    "&\\vdots \\\\\n",
    "&p_n = \\binom{n-1}{3} p^4 (1-p)^{n-4}\n",
    "\\end{align*}\n",
    "$$\n",
    "\n",
    "Now we need to figure out the range of p for which its most probable that we have a 5 game series. We can determine the boundaries by noting one of them occurs when a given p is just as likely to yield a 4 game series and the other occurs when p is as likely to yield a 5 game series. Setting up and solving these equations we get\n",
    "\n",
    "$$\n",
    "\\begin{align*}\n",
    "\\binom{3}{3} p^4 = \\binom{4}{3} p^4 (1-p) \\\\\n",
    "1 = 4 (1-p) \\\\\n",
    "p=\\frac{3}{4}\n",
    "\\end{align*}\n",
    "$$\n",
    "\n",
    "$$\n",
    "\\begin{align*}\n",
    "\\binom{4}{3} p^4 (1-p)^1 = \\binom{5}{3} p^4 (1-p)^2 \\\\\n",
    "4 = 10 (1-p) \\\\\n",
    "p = \\frac{3}{5}\n",
    "\\end{align*}\n",
    "$$\n",
    "\n",
    "And there we have the bounds $\\boxed{\\frac{3}{5} < p < \\frac{3}{4}}$"
   ]
  },
  {
   "cell_type": "markdown",
   "id": "5e81d0d1",
   "metadata": {},
   "source": [
    "## Extra Credit\n",
    "\n",
    "_Now that you’ve determined the values of a and b, let’s analyze the rest of Stephen’s statement. Is it true that losing in five games is “closer to a sweep than a seven-game series”?_\n",
    "\n",
    "_Let p4 represent the probability that the Celtics sweep the Knicks in four games. And let p7 represent the probability that the series goes to seven games (with either team winning)._\n",
    "\n",
    "_Suppose p is randomly and uniformly selected from the interval (a, b), meaning we take it as a given that the most likely outcome is that the Knicks will lose the series in five games. How likely is it that p4 is greater than p7? In other words, how often will it be the case that probably losing in five games means a sweep is more likely than a seven-game series?_"
   ]
  },
  {
   "cell_type": "markdown",
   "id": "265031d5",
   "metadata": {},
   "source": [
    "We want to find the probability associated with $p_4 > p_7$. we already have expressions for these, but we need to account for $p_7$ having either team win.\n",
    "\n",
    "$$\n",
    "\\begin{align*}\n",
    "p^4 > \\binom{6}{3} p^4 (1-p)^3 + \\binom{6}{3} p^3 (1-p)^4 \\\\\n",
    "p > 20 (1-p)^3 (p + 1-p) \\\\\n",
    "p > 20 (1-p)^3 \n",
    "\\end{align*}\n",
    "$$\n",
    "\n",
    "Solve for p to find $p \\approx .6766$. So $p_4$ is more likely when $p>.6766$ and $p_7$ is more likely when $p<.6766$. Given that $p$ is uniformly distributed between .6 and .75, the probability of of $p_4 > p_7$ is\n",
    "\n",
    "$ \\frac{.6766 - .6}{.75 - .6} \\approx \\boxed{.4895}$\n",
    "\n",
    "So the seven game series is actually closer than the sweep. "
   ]
  },
  {
   "cell_type": "code",
   "execution_count": null,
   "id": "4bc69332",
   "metadata": {},
   "outputs": [
    {
     "name": "stdout",
     "output_type": "stream",
     "text": [
      "\n",
      "Simulation Results:\n",
      "  Lower cutoff where 5G is most likely: 0.600\n",
      "  Upper cutoff where 5G is most likely: 0.750\n",
      "  P(sweep > 7-game series) when p ~ U(0.6, 0.75): 0.479\n"
     ]
    }
   ],
   "source": [
    "# some simulation verifications\n",
    "\n",
    "import numpy as np\n",
    "import pandas as pd\n",
    "\n",
    "# np.random.seed(492)\n",
    "\n",
    "def simulate_best_of_seven(p, n_series):\n",
    "    games = np.random.rand(n_series, 7) < p\n",
    "    cumwins = games.cumsum(axis=1)\n",
    "\n",
    "    a_won_series = cumwins[:, -1] >= 4\n",
    "    first4_idx = np.where(a_won_series, (cumwins >= 4).argmax(axis=1), 7)\n",
    "\n",
    "    win_len_freq = {}\n",
    "    for k in (4, 5, 6, 7):\n",
    "        win_len_freq[k] = (first4_idx == k - 1).mean()\n",
    "\n",
    "    a_wins_6 = cumwins[:, 5]\n",
    "    b_wins_6 = 6 - a_wins_6\n",
    "    reaches7 = (a_wins_6 <= 3) & (b_wins_6 <= 3)\n",
    "\n",
    "    p4 = win_len_freq[4]\n",
    "    p7 = reaches7.mean()\n",
    "\n",
    "    return win_len_freq, (p4 > p7)\n",
    "\n",
    "# PART 1: Where is 5-game win most likely?\n",
    "p_grid = np.arange(0.05, 0.951, 0.005)\n",
    "series_per_p = 50000\n",
    "\n",
    "records = []\n",
    "for p in p_grid:\n",
    "    win_len, _ = simulate_best_of_seven(p, series_per_p)\n",
    "    records.append({\"p\": p, **{f\"P(win in {k})\": win_len[k] for k in (4, 5, 6, 7)}})\n",
    "\n",
    "df_grid = pd.DataFrame(records)\n",
    "mask_5_most_likely = (\n",
    "    (df_grid[\"P(win in 5)\"] > df_grid[\"P(win in 4)\"]) &\n",
    "    (df_grid[\"P(win in 5)\"] > df_grid[\"P(win in 6)\"]) &\n",
    "    (df_grid[\"P(win in 5)\"] > df_grid[\"P(win in 7)\"])\n",
    ")\n",
    "\n",
    "p_values_5_most = df_grid.loc[mask_5_most_likely, \"p\"]\n",
    "lower_cutoff = p_values_5_most.min()\n",
    "upper_cutoff = p_values_5_most.max()\n",
    "\n",
    "# PART 2: Compare sweep vs. 7-game series\n",
    "# np.random.seed(12345)\n",
    "N = 10000\n",
    "p_samples = lower_cutoff + (upper_cutoff-lower_cutoff) * np.random.rand(N)\n",
    "sweep_more_likely = []\n",
    "\n",
    "for p in p_samples:\n",
    "    _, is_sweep_gt_g7 = simulate_best_of_seven(p, 100000)\n",
    "    sweep_more_likely.append(is_sweep_gt_g7)\n",
    "\n",
    "prob_sweep_gt_g7 = np.mean(sweep_more_likely)\n",
    "\n",
    "# Results\n",
    "print(\"\\nSimulation Results:\")\n",
    "print(f\"  Lower cutoff where 5G is most likely: {lower_cutoff:.3f}\")\n",
    "print(f\"  Upper cutoff where 5G is most likely: {upper_cutoff:.3f}\")\n",
    "print(f\"  P(sweep > 7-game series) when p ~ U(0.6, 0.75): {prob_sweep_gt_g7:.3f}\")\n"
   ]
  }
 ],
 "metadata": {
  "kernelspec": {
   "display_name": "puzzling",
   "language": "python",
   "name": "python3"
  },
  "language_info": {
   "codemirror_mode": {
    "name": "ipython",
    "version": 3
   },
   "file_extension": ".py",
   "mimetype": "text/x-python",
   "name": "python",
   "nbconvert_exporter": "python",
   "pygments_lexer": "ipython3",
   "version": "3.13.2"
  }
 },
 "nbformat": 4,
 "nbformat_minor": 5
}
