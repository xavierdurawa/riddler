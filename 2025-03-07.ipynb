{
 "cells": [
  {
   "cell_type": "markdown",
   "metadata": {},
   "source": [
    "# [Can You Tip the Dominoes?](https://thefiddler.substack.com/p/can-you-tip-the-dominoes)\n",
    "## March 7 2025"
   ]
  },
  {
   "cell_type": "markdown",
   "metadata": {},
   "source": [
    "## Problem\n",
    "\n",
    "_You are placing many, many dominoes in a straight line, one at a time. However, each time you place a domino, there is a 1 percent chance that you accidentally tip it over, causing a chain reaction that tips over all dominoes you’ve placed. After a chain reaction, you start over again._\n",
    "\n",
    "_If you do this many, many times, what can you expect the median (note: not the average) number of dominoes placed when a chain reaction occurs (including the domino that causes the chain reaction)? More precisely, if this median number is M, then you would expect to have placed fewer than M dominoes at most half the time, and more than M dominoes at most half the time._"
   ]
  },
  {
   "cell_type": "markdown",
   "metadata": {},
   "source": [
    "## Solution\n",
    "\n",
    "\n",
    "There's a 99% chance that the domino you place will not tip over and a 1% chance that it will. If we assume that exactly M dominos are placed, the probability of this happening is:\n",
    "\n",
    "$$ P(X) = \\frac{1}{100} \\left(\\frac{99}{100}\\right)^M $$\n",
    "\n",
    "because we successfully placed M dominos and then tipped over the last one. To get the median we need to find the value of M such that:\n",
    "\n",
    "$$ \\sum_{i=0}^{M} P(i) = \\frac{1}{2} $$\n",
    "\n",
    "$$ \\sum_{i=0}^{M} \\frac{1}{100} \\left(\\frac{99}{100}\\right)^i = \\frac{1}{2} $$\n",
    "\n",
    "This is a geometric series, and we can use the formula for the sum of a geometric series:\n",
    "$$ S_n = \\frac{a(1 - r^n)}{1 - r} $$\n",
    "\n",
    "so we have\n",
    "\n",
    "$$ \\frac{1}{100} \\cdot \\frac{1 - \\left(\\frac{99}{100}\\right)^{M}}{1 - \\frac{99}{100}} = \\frac{1}{2} $$\n",
    "$$ 1 - \\left(\\frac{99}{100}\\right)^{M} = \\frac{1}{2} $$\n",
    "$$ M = \\frac{\\ln(0.5)}{\\ln(0.99)} \\approx 68.97 $$\n",
    "\n",
    "And since M must be an integer, we round up to 69. So the median number of dominos placed when a chain reaction occurs is 69."
   ]
  },
  {
   "cell_type": "markdown",
   "metadata": {},
   "source": [
    "## Extra Credit\n",
    "\n",
    "_You’re placing dominoes again, but this time the probability of knocking each domino over and causing a chain reaction isn’t 1/100, but rather 10-k, where k is a whole number. When k = 1, the probability of knocking over a domino is 10 percent; when k = 2, this probability is 1 percent; when k = 3, this probability is 0.1 percent, and so on._\n",
    "\n",
    "_Suppose the expected median number of dominoes placed that initiates a chain reaction is M. As k gets very, very large, what value does M/10k approach?_"
   ]
  },
  {
   "cell_type": "markdown",
   "metadata": {},
   "source": [
    "# Solution\n",
    "\n",
    "We can pretty much borrow the same solution as above with some modifications:\n",
    "\n",
    "$$ M = \\frac{\\ln(0.5)}{\\ln(1-10^{-k})} $$\n",
    "\n",
    "Specifically, we want:\n",
    "\n",
    "$$ \\lim_{k \\to \\infty} \\frac{M}{10^k} = \\lim_{k \\to \\infty} \\frac{\\ln(0.5)}{10^k \\cdot \\ln(1-10^{-k})} $$\n",
    "\n",
    "Using L'Hôpital's rule:\n",
    "$$ \\frac{ \\frac{d}{dk} u \\ln(0.5)}{\\frac{d}{dk} \\ln(1-u)} = \\frac{ \\frac{du}{dk} \\ln(2)}{\\frac{du}{dk} \\frac{1}{1-u}} = (1-u) \\ln(2) $$\n",
    "\n",
    "Where u is $u=10^{-k}$.\n",
    "So we have:\n",
    "$$ \\lim_{k \\to \\infty} (1-10^{-k}) \\ln(2) = 1 \\cdot \\ln(2) = \\ln(2) $$\n",
    "So the answer is $\\boxed{\\ln(2)}$."
   ]
  }
 ],
 "metadata": {
  "language_info": {
   "name": "python"
  }
 },
 "nbformat": 4,
 "nbformat_minor": 2
}
