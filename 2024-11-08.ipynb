{
 "cells": [
  {
   "cell_type": "markdown",
   "metadata": {},
   "source": [
    "# [Where Will the Sorting Hat Put You?](https://thefiddler.substack.com/p/where-will-the-sorting-hat-put-you)\n",
    "## November 8 2024"
   ]
  },
  {
   "cell_type": "markdown",
   "metadata": {},
   "source": [
    "## Problem\n",
    "\n",
    "_You are waiting in line to be sorted into one of the four houses of Logwarts (a posh wizarding boarding school in the Scottish highlands) by an anthropomorphic sorting hat. The hat is a bit of a snob about the whole matter, and refuses to sort two students in a row into the same house. If a student requests a certain house, but the previously sorted student was already sorted into that same house, then the hat chooses randomly from among the three remaining houses. Otherwise, the hat grants the student’s request._\n",
    "\n",
    "_You are standing 10th in line, and you make plans to request Graphindor house for yourself. As for the other students in line, you can assume that they have random preferences from among the four houses._\n",
    "\n",
    "_The first student steps up, and has a brief, quiet conversation with the hat. After a few moments, the hat proclaims, “Graphindor!”_\n",
    "\n",
    "_At this point, what is the probability that you will be sorted into Graphindor?_"
   ]
  },
  {
   "cell_type": "markdown",
   "metadata": {},
   "source": [
    "## Solution\n",
    "\n",
    "This is a pretty classic example of a markov chain. If we wanted a way of finding the probability of the ith student being sorted into a certain house, we can first observe that the probability of ending up in a given house for the second student is\n",
    "\n",
    "$$ T \\cdot v_1 = v_2 $$\n",
    "\n",
    "where $T$ is the transition matrix below and $v_1$ is the initial vector $ (1,0,0,0) $ (the first index of $ v_i $ is the probability of the student being placed in 'Graphindor').\n",
    "\n",
    "$$\n",
    "T = \n",
    "\\begin{pmatrix}\n",
    "0 & \\frac{1}{3} & \\frac{1}{3} & \\frac{1}{3} & \\frac{1}{3} \\\\\n",
    "\\frac{1}{3} & 0 & \\frac{1}{3} & \\frac{1}{3} & \\frac{1}{3} \\\\\n",
    "\\frac{1}{3} & \\frac{1}{3} & 0 & \\frac{1}{3} & \\frac{1}{3} \\\\\n",
    "\\frac{1}{3} & \\frac{1}{3} & \\frac{1}{3} & 0 & \\frac{1}{3} \\\\\n",
    "\\frac{1}{3} & \\frac{1}{3} & \\frac{1}{3} & \\frac{1}{3} & 0\n",
    "\\end{pmatrix}\n",
    "$$\n",
    "\n",
    "We can then find the probability of the third student being sorted into a certain house by multiplying the transition matrix by the vector $v_2$:\n",
    "\n",
    "$$ T \\cdot v_2 = T^2 \\cdot v_1 = v_3 $$\n",
    "\n",
    "We can proceed this way until we get to the student immediately before you $ v_9 $. As long as they don't get sorted into 'Graphindor', the probability of you getting sorted into 'Graphindor' is $ v_{10} = 1- v_9 $.\n",
    "\n",
    "We can proceed in this way but to simplify a little I examined how the first index of $ v $ changes and found the following pattern:\n",
    "\n",
    "$$ v_{G_1} = 1 $$\n",
    "$$ v_{G_2} = 0 $$\n",
    "$$ v_{G_3} = \\frac{1}{3} $$\n",
    "$$ v_{G_4} = \\frac{1}{3} - \\frac{1}{9} $$\n",
    "$$ v_{G_5} = \\frac{1}{3} - \\frac{1}{9} + \\frac{1}{27}$$\n",
    "$$ v_{G_6} = \\frac{1}{3} - \\frac{1}{9} + \\frac{1}{27} - \\frac{1}{81}$$\n",
    "\n",
    "Ignoring those first two terms, we can write this as:\n",
    "\n",
    "$$ v_{G_n} = \\sum_{j=3}^{n} (-1)^{j+1} \\left( \\frac{1}{3} \\right)^{j-2} $$\n",
    "\n",
    "So the probability of you ended up in 'Graphindor' is:\n",
    "\n",
    "$$ v_{G_{10}} = 1 - v_{G_9} = 1 - \\sum_{j=3}^{9} (-1)^{j+1} \\left( \\frac{1}{3} \\right)^{j-2} $$"
   ]
  },
  {
   "cell_type": "code",
   "execution_count": null,
   "metadata": {},
   "outputs": [
    {
     "name": "stdout",
     "output_type": "stream",
     "text": [
      "Probability of graphindor for student 10: 1640/2187 ≈ 0.749885688157293\n"
     ]
    }
   ],
   "source": [
    "import sympy as sp\n",
    "\n",
    "def probability_graphindor(N):\n",
    "    if N == 1:\n",
    "        return 1\n",
    "    elif N == 2:\n",
    "        return 0\n",
    "    \n",
    "    total = 0\n",
    "    for i in range(3,N):\n",
    "        total += (-1)**(i-1) * sp.Rational(1,3)**(i-2)\n",
    "    return 1-total\n",
    "\n",
    "N = 10\n",
    "result = probability_graphindor(N)\n",
    "print(\"Probability of graphindor for student {N}: {x} \\u2248 {y}\".format(N=N, x=result, y=result.evalf()))"
   ]
  },
  {
   "cell_type": "markdown",
   "metadata": {},
   "source": [
    "## Extra Credit \n",
    "\n",
    "_Suppose the answer to this week’s Fiddler is p._\n",
    "\n",
    "_Now, instead of being 10th in line, suppose you are Nth in line, where N is some value much greater than 10. Because so many students are being sorted in front of you, you decide you’ll take a nap. You wake up without any idea of how long you were out—it could have been a second, or it could have been an hour, you’re just not sure. It’s still not your turn to be sorted yet, but you see a student wearing the hat. After a brief moment, the hat shouts, “Graphindor!”_\n",
    "\n",
    "_What is the smallest value of N such that your probability of being sorted into Graphindor is greater than p?_\n",
    "\n",
    "_(To be clear, when you wake up, the student being sorted is anywhere from first in line to immediately before you in line with equal probability.)_"
   ]
  },
  {
   "cell_type": "markdown",
   "metadata": {},
   "source": [
    "## Solution\n",
    "\n",
    "Now we need to evaluate the average probability of being sorted into 'Graphindor' for each possibility where the are 1 to $N$ students in front of us. In this situation, let's call the person that just got sorted into 'Graphindor' after you woke up the $i=1$ th student. The probability of you being sorted into 'Graphindor' is:\n",
    "\n",
    "$$ p_N = \\frac{1}{N} \\sum_{i=1}^{N} 1-v_{G_i}$$\n",
    "\n",
    "and $ v_{G_i} $ is the same as above. We can then find the smallest value of $N$ such that $ p_N > p $. It's worth noting that as formulated above, the actual number would be N+1 since we are counting the number of students in front of us.\n",
    "\n",
    "We can also notice that our current formulation involved a nested loop which makes that computation $ O(N^2) $. After attempting to impliment it naively and realizing that the answer a pretty large number ( $> 100$ ), it made sense to rearrange for a more efficient computation. We can rewrite the probability as (now $ O(N) $):\n",
    "\n",
    "$$\n",
    "p_N = 1 - \\frac{1}{N} \\left( 1 + \\sum_{i=3}^{N} (-1)^{i+1} \\left(\\frac{1}{3}\\right)^{i-2} (N - i + 1) \\right)\n",
    "$$"
   ]
  },
  {
   "cell_type": "code",
   "execution_count": 171,
   "metadata": {},
   "outputs": [],
   "source": [
    "def v_i(i):\n",
    "    if i == 1:\n",
    "        return 1\n",
    "    elif i == 2:\n",
    "        return 0\n",
    "    # print([(-1)**(j+1) * (1/3)**(j-2) for j in range(3,i+1)])\n",
    "    return sum([(-1)**(j+1) * (1/3)**(j-2) for j in range(3,i+1)])\n",
    "\n",
    "def probability_graphindor(N):\n",
    "    s = []\n",
    "    if N >= 1:\n",
    "        s+=[1]\n",
    "    if N >= 2:\n",
    "        s+=[0]\n",
    "    if N >= 3:\n",
    "        s += [(-1)**(i+1) * (1/3)**(i-2) * (N-i+1) for i in range(3,N+1)]\n",
    "    return 1 - 1/N * sum(s)\n",
    "\n",
    "def probability_graphindor_exact(N):\n",
    "    s = []\n",
    "    if N >= 1:\n",
    "        s+=[1]\n",
    "    if N >= 2:\n",
    "        s+=[0]\n",
    "    if N >= 3:\n",
    "        s += [(-1)**(i+1) * sp.Rational(1,3)**(i-2) * (N-i+1) for i in range(3,N+1)]\n",
    "    return 1 - sp.Rational(1,N) * sum(s)"
   ]
  },
  {
   "cell_type": "code",
   "execution_count": 175,
   "metadata": {},
   "outputs": [],
   "source": [
    "# Verify the formula\n",
    "for N in range(1,15):\n",
    "    ans1 = probability_graphindor(N)\n",
    "    ans2 = (1/N)*sum([1-v_i(i) for i in range(1,N+1)])\n",
    "    # print(\"N={N}: {x} = {y}\".format(N=N, x=ans1, y=ans2))\n",
    "    assert abs(ans1 - ans2) < 1e-10"
   ]
  },
  {
   "cell_type": "markdown",
   "metadata": {},
   "source": [
    "We can eliminate the outer summation as well. The details are omitted here but the final formula is:\n",
    "\n",
    "$$\n",
    "p_N = 1 - \\frac{1}{N} \\left[ 1 - (N-1) \\cdot \\frac{r(1 - r^{N-2})}{1 - r} + \\frac{r \\cdot \\left(1 - r^{N-2}(1 + (N-2)(1 - r))\\right)}{(1 - r)^2} \\right]\n",
    "$$\n",
    "\n",
    "$$\n",
    "r = -\\frac{1}{3}\n",
    "$$\n",
    "\n",
    "After running it, I found it didn't really improve efficiency much. However, this does allow us to relatively easily get $ N $ as a function of $ p $ and then we can find the smallest integer $ N $ such that $ p_N > p $.\n",
    "\n",
    "$$ N = \\frac{1+A+B}{1-p+A}"
   ]
  },
  {
   "cell_type": "code",
   "execution_count": 198,
   "metadata": {},
   "outputs": [],
   "source": [
    "def probability_graphindor_simple(N):\n",
    "    if N < 1:\n",
    "        return 0\n",
    "    \n",
    "    r = -1 / 3 \n",
    "\n",
    "    if N > 2:\n",
    "        A = (r * (1 - r**(N-2))) / (1 - r)\n",
    "    else:\n",
    "        A = 0\n",
    "\n",
    "    if N > 2:\n",
    "        B = (r * (1 - r**(N-2) * (1 + (N-2) * (1 - r)))) / ((1 - r)**2)\n",
    "    else:\n",
    "        B = 0\n",
    "\n",
    "    sum_s = 1 - (N - 1) * A + B\n",
    "    probability = 1 - (1 / N) * sum_s\n",
    "\n",
    "    return probability\n",
    "\n",
    "def probability_graphindor_simple_exact(N):\n",
    "    if N < 1:\n",
    "        return 0\n",
    "    \n",
    "    r = -1*sp.Rational(1,3) \n",
    "\n",
    "    if N > 2:\n",
    "        A = (r * (1 - r**(N-2))) / (1 - r)\n",
    "    else:\n",
    "        A = 0\n",
    "\n",
    "    if N > 2:\n",
    "        B = (r * (1 - r**(N-2) * (1 + (N-2) * (1 - r)))) / ((1 - r)**2)\n",
    "    else:\n",
    "        B = 0\n",
    "\n",
    "    sum_s = 1 - (N - 1) * A + B\n",
    "    probability = 1 - sp.Rational(1,N) * sum_s\n",
    "\n",
    "    return probability\n",
    "\n",
    "def N_given_probability_graphindor(probability):\n",
    "    if N < 1:\n",
    "        return 0\n",
    "    \n",
    "    r = -1*sp.Rational(1,3) \n",
    "\n",
    "    if N > 2:\n",
    "        A = (r * (1 - r**(N-2))) / (1 - r)\n",
    "    else:\n",
    "        A = 0\n",
    "\n",
    "    if N > 2:\n",
    "        B = (r * (1 - r**(N-2) * (1 + (N-2) * (1 - r)))) / ((1 - r)**2)\n",
    "    else:\n",
    "        B = 0\n",
    "    \n",
    "    return (1+A+B)/(1-probability+A)"
   ]
  },
  {
   "cell_type": "code",
   "execution_count": 222,
   "metadata": {},
   "outputs": [
    {
     "name": "stdout",
     "output_type": "stream",
     "text": [
      "N=4900: 0.749885204081633: N ≈ 4900\n",
      "N=4901: 0.749885227504591: N ≈ 4901\n",
      "N=4902: 0.749885250917993: N ≈ 4902\n",
      "N=4903: 0.749885274321844: N ≈ 4903\n",
      "N=4904: 0.749885297716150: N ≈ 4904\n",
      "N=4905: 0.749885321100917: N ≈ 4905\n",
      "N=4906: 0.749885344476152: N ≈ 4906\n",
      "N=4907: 0.749885367841859: N ≈ 4907\n",
      "N=4908: 0.749885391198044: N ≈ 4908\n",
      "N=4909: 0.749885414544714: N ≈ 4909\n",
      "N=4910: 0.749885437881874: N ≈ 4910\n",
      "N=4911: 0.749885461209530: N ≈ 4911\n",
      "N=4912: 0.749885484527687: N ≈ 4912\n",
      "N=4913: 0.749885507836353: N ≈ 4913\n",
      "N=4914: 0.749885531135531: N ≈ 4914\n",
      "N=4915: 0.749885554425229: N ≈ 4915\n",
      "N=4916: 0.749885577705452: N ≈ 4916\n",
      "N=4917: 0.749885600976205: N ≈ 4917\n",
      "N=4918: 0.749885624237495: N ≈ 4918\n",
      "N=4919: 0.749885647489327: N ≈ 4919\n",
      "N=4920: 0.749885670731707: N ≈ 4920\n",
      "N=4921: 0.749885693964641: N ≈ 4921\n",
      "N=4922: 0.749885717188135: N ≈ 4922\n",
      "N=4923: 0.749885740402194: N ≈ 4923\n",
      "N=4924: 0.749885763606824: N ≈ 4924\n",
      "0.749885688157293\n"
     ]
    }
   ],
   "source": [
    "# Verify the formula\n",
    "for N in range(4900,4925):\n",
    "    ans1 = probability_graphindor(N)\n",
    "    ans2 = probability_graphindor_simple_exact(N)\n",
    "    # print(\"N={N}: {x} = {y}\".format(N=N, x=ans1, y=ans2))\n",
    "    print(\"N={N}: {x}: N \\u2248 {recal_N}\".format(N=N, x=ans2.evalf(), recal_N=N_given_probability_graphindor(ans2)))\n",
    "    assert abs(ans1 - ans2) < 1e-10\n",
    "print(sp.Rational(1640,2187).evalf())"
   ]
  },
  {
   "cell_type": "code",
   "execution_count": 201,
   "metadata": {},
   "outputs": [
    {
     "name": "stdout",
     "output_type": "stream",
     "text": [
      "True\n",
      "True\n"
     ]
    }
   ],
   "source": [
    "lower_bound = 1000\n",
    "upper_bound = 10000\n",
    "print(probability_graphindor_exact(lower_bound)<1640/2187)\n",
    "print(probability_graphindor_exact(upper_bound)>1640/2187)"
   ]
  },
  {
   "cell_type": "code",
   "execution_count": 220,
   "metadata": {},
   "outputs": [
    {
     "name": "stdout",
     "output_type": "stream",
     "text": [
      "4921\n",
      "4920.74999999856\n"
     ]
    }
   ],
   "source": [
    "# Let's use a sort of binary search on the function probability_graphindor to find where the probability is 1640/2187\n",
    "\n",
    "def binary_search(low, high, target):\n",
    "    low = low\n",
    "    high = high\n",
    "    while low < high:\n",
    "        mid = (low + high) // 2\n",
    "        if probability_graphindor_simple_exact(mid) < target:\n",
    "            low = mid + 1\n",
    "        else:\n",
    "            high = mid\n",
    "    return low\n",
    "\n",
    "print(binary_search(lower_bound, upper_bound, 1640/2187))\n",
    "print(N_given_probability_graphindor(sp.Rational(1640,2187).evalf())) # Not quite sure why using the rational number doesn't work"
   ]
  },
  {
   "cell_type": "markdown",
   "metadata": {},
   "source": [
    "So if we re-include ourself, the answer is 4922."
   ]
  },
  {
   "cell_type": "code",
   "execution_count": 215,
   "metadata": {},
   "outputs": [
    {
     "data": {
      "image/png": "[encoded data removed]",
      "text/plain": [
       "<Figure size 1000x600 with 1 Axes>"
      ]
     },
     "metadata": {},
     "output_type": "display_data"
    }
   ],
   "source": [
    "import matplotlib.pyplot as plt\n",
    "\n",
    "# Define the range of N values\n",
    "N_values = range(1, 100)\n",
    "\n",
    "# Calculate the probabilities for each N\n",
    "probabilities = [probability_graphindor_simple(N) for N in N_values]\n",
    "\n",
    "# Plot the probabilities\n",
    "plt.figure(figsize=(10, 6))\n",
    "plt.plot(N_values, probabilities, marker='o', linestyle='-', color='b')\n",
    "plt.xlabel('N')\n",
    "plt.ylabel('Probability of being sorted into Graphindor')\n",
    "plt.title('Probability of being sorted into Graphindor as a function of N')\n",
    "plt.grid(True)\n",
    "plt.show()"
   ]
  },
  {
   "cell_type": "code",
   "execution_count": 216,
   "metadata": {},
   "outputs": [
    {
     "data": {
      "image/png": "[encoded data removed]",
      "text/plain": [
       "<Figure size 1000x600 with 1 Axes>"
      ]
     },
     "metadata": {},
     "output_type": "display_data"
    }
   ],
   "source": [
    "# Define the range of N values\n",
    "N_values = range(1, 100)\n",
    "\n",
    "# Calculate the probabilities for each N\n",
    "probabilities = [probability_graphindor_simple(N) for N in N_values]\n",
    "\n",
    "# Calculate the N values for each probability\n",
    "N_values_computed = [N_given_probability_graphindor(p).evalf() for p in probabilities]\n",
    "\n",
    "# Plot the N values\n",
    "plt.figure(figsize=(10, 6))\n",
    "plt.plot(probabilities, N_values_computed, marker='o', linestyle='-', color='b')\n",
    "plt.xlabel('Probability (p)')\n",
    "plt.ylabel('N')\n",
    "plt.title('N as a function of Probability (p)')\n",
    "plt.grid(True)\n",
    "plt.show()"
   ]
  },
  {
   "cell_type": "markdown",
   "metadata": {},
   "source": []
  }
 ],
 "metadata": {
  "kernelspec": {
   "display_name": "puzzling",
   "language": "python",
   "name": "python3"
  },
  "language_info": {
   "codemirror_mode": {
    "name": "ipython",
    "version": 3
   },
   "file_extension": ".py",
   "mimetype": "text/x-python",
   "name": "python",
   "nbconvert_exporter": "python",
   "pygments_lexer": "ipython3",
   "version": "3.12.5"
  }
 },
 "nbformat": 4,
 "nbformat_minor": 2
}
