{
 "cells": [
  {
   "cell_type": "markdown",
   "metadata": {},
   "source": [
    "# [Which Geyser Gushes First?](https://fivethirtyeight.com/features/which-geyser-gushes-first/)\n",
    "## Dec 18 2015"
   ]
  },
  {
   "cell_type": "markdown",
   "metadata": {},
   "source": [
    "# Problem\n",
    " _You arrive at the beautiful Three Geysers National Park. You read a placard explaining that the three eponymous geysers — creatively named A, B and C — erupt at intervals of precisely two hours, four hours and six hours, respectively. However, you just got there, so you have no idea how the three eruptions are staggered. Assuming they each started erupting at some independently random point in history, what are the probabilities that A, B and C, respectively, will be the first to erupt after your arrival?_"
   ]
  },
  {
   "cell_type": "markdown",
   "metadata": {},
   "source": [
    "# Solution\n",
    "\n",
    "Since we know C will errupt within 2 hours we don't really need to consider beyond that point. Let's consider the following scenarios (which will help us calculate the final probabilities):\n",
    "\n",
    "- (1) Only C has errupted in 2 hours\n",
    "- (2) C and B have errupted but not A\n",
    "- (3) C and A have errupted but not B\n",
    "- (4) A, B, and C have all errupted\n",
    "\n",
    "The probability of each are:\n",
    "\n",
    "- (1) $ \\frac{1}{2}*\\frac{2}{3} = \\frac{1}{3}$\n",
    "\n",
    "- (2) $ \\frac{1}{2}*\\frac{2}{3} = \\frac{1}{3}$\n",
    "\n",
    "- (3) $ \\frac{1}{3}*\\frac{1}{2} = \\frac{1}{6}$\n",
    "\n",
    "- (4) $ \\frac{1}{2}*\\frac{1}{3} = \\frac{1}{6}$\n",
    "\n",
    "Using these we can calculate the actual probabilities:\n",
    "\n",
    " - (C) C can be the first in any of the situations: $ \\frac{1}{3} + \\frac{1}{3} * \\frac{1}{2} + \\frac{1}{6} * \\frac{1}{2} + \\frac{1}{6} *\\frac{1}{3} = \\frac{23}{36} \\approxeq 0.639$\n",
    "\n",
    " - (B) B can the first in situations (2) and (4): $ \\frac{1}{3} * \\frac{1}{2} + \\frac{1}{6} * \\frac{1}{3} = \\frac{2}{9} \\approxeq 0.222$\n",
    "\n",
    " - (A) C can be the first situations (3) and (4): $ \\frac{1}{6} * \\frac{1}{2} + \\frac{1}{6} * \\frac{1}{3} = \\frac{5}{36} \\approxeq 0.139$\n",
    "\n",
    "Let's see if we can verify this with a simulation."
   ]
  },
  {
   "cell_type": "code",
   "execution_count": 2,
   "metadata": {},
   "outputs": [],
   "source": [
    "import random\n",
    "\n",
    "def find_soonest(start, twos, fours, sixs):\n",
    "    minimum = float('inf')\n",
    "    min_interval = None\n",
    "    for i, interval in enumerate([twos, fours, sixs]):\n",
    "        for t in interval:\n",
    "            delta = t-start\n",
    "            if delta > 0 and delta < minimum:\n",
    "                minimum = delta\n",
    "                min_interval = i\n",
    "    return min_interval\n",
    "\n",
    "def run_simulation():\n",
    "    start2 = 2*random.random()\n",
    "    start4 = 4*random.random()\n",
    "    start6 = 6*random.random()\n",
    "\n",
    "    twos = [start2 + 2*i for i in range(0,7)]\n",
    "    fours = [start4 + 4*i for i in range(0,4)]\n",
    "    sixs = [start6 + 6*i for i in range(0,3)]\n",
    "\n",
    "    start = 12*random.random()\n",
    "\n",
    "    mapper = {0:'two', 1:'four', 2:'six'}\n",
    "    return mapper[find_soonest(start, twos, fours, sixs)]"
   ]
  },
  {
   "cell_type": "code",
   "execution_count": 7,
   "metadata": {},
   "outputs": [
    {
     "name": "stdout",
     "output_type": "stream",
     "text": [
      "{'two': 638007, 'four': 222776, 'six': 139217}\n"
     ]
    }
   ],
   "source": [
    "simulation_results = {'two':0, 'four':0, 'six':0}\n",
    "n = 1000000\n",
    "for _ in range(1000000):\n",
    "    simulation_results[run_simulation()] += 1\n",
    "\n",
    "print(simulation_results)"
   ]
  },
  {
   "cell_type": "code",
   "execution_count": 9,
   "metadata": {},
   "outputs": [
    {
     "name": "stdout",
     "output_type": "stream",
     "text": [
      "{'two': 0.638007, 'four': 0.222776, 'six': 0.139217}\n"
     ]
    }
   ],
   "source": [
    "percents = {k:v/n for k, v in simulation_results.items()}\n",
    "print(percents)"
   ]
  },
  {
   "cell_type": "markdown",
   "metadata": {},
   "source": [
    "Perfect!"
   ]
  }
 ],
 "metadata": {
  "kernelspec": {
   "display_name": "Python 3.8.9 64-bit",
   "language": "python",
   "name": "python3"
  },
  "language_info": {
   "codemirror_mode": {
    "name": "ipython",
    "version": 3
   },
   "file_extension": ".py",
   "mimetype": "text/x-python",
   "name": "python",
   "nbconvert_exporter": "python",
   "pygments_lexer": "ipython3",
   "version": "3.8.9"
  },
  "orig_nbformat": 4,
  "vscode": {
   "interpreter": {
    "hash": "31f2aee4e71d21fbe5cf8b01ff0e069b9275f58929596ceb00d14d90e3e16cd6"
   }
  }
 },
 "nbformat": 4,
 "nbformat_minor": 2
}
