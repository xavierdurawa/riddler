{
 "cells": [
  {
   "cell_type": "markdown",
   "metadata": {},
   "source": [
    "# [How Long Will Your Smartphone Distract You From Family Dinner?](https://fivethirtyeight.com/features/how-long-will-your-smartphone-distract-you-from-family-dinner/)\n",
    "## Dec 22 2015"
   ]
  },
  {
   "cell_type": "markdown",
   "metadata": {},
   "source": [
    "# Problem\n",
    "\n",
    "_You’ve just finished unwrapping your holiday presents. You and your sister got brand-new smartphones, opening them at the same moment. You immediately both start doing important tasks on the Internet, and each task you do takes one to five minutes. (All tasks take exactly one, two, three, four or five minutes, with an equal probability of each). After each task, you have a brief moment of clarity. During these, you remember that you and your sister are supposed to join the rest of the family for dinner and that you promised each other you’d arrive together. You ask if your sister is ready to eat, but if she is still in the middle of a task, she asks for time to finish it. In that case, you now have time to kill, so you start a new task (again, it will take one, two, three, four or five minutes, exactly, with an equal probability of each). If she asks you if it’s time for dinner while you’re still busy, you ask for time to finish up and she starts a new task and so on. From the moment you first open your gifts, how long on average does it take for both of you to be between tasks at the same time so you can finally eat? (You can assume the “moments of clarity” are so brief as to take no measurable time at all.)_"
   ]
  },
  {
   "cell_type": "markdown",
   "metadata": {},
   "source": [
    "# Solution\n",
    "\n",
    "To help with this problem, let's think about moving along a number line.  Two players each advance on a number line by 1-5 steps each time.  We stop once either player lands on a spot the other player has been on. So if we can find a way to calculate the probability that someone lands on a particular number, we can determine the probability both of you will have landed on the sqaure. We need to account for the various ways that one can arrive at a number. We also need to factor in the number of steps needed to arrive at that square since that will effect the probability of that particular occuring.\n",
    "\n",
    "We can modify an algorithm that counts the number of ways to get to arrive at number $N$ by summing numbers $1-5$ and weighting that by the number of steps needed to get to that probability.  This should give us the probability that either sibiling would look up at a particular time if they never stopped.\n",
    "\n",
    "From here we now need to calculate the probability that the siblings both land on number $N$ _without_ have landed any other shared numbers. Lets write this as \n",
    "\n",
    "$$ P(N_i | \\neg N_{i-1}, ... , \\neg N_1) $$\n",
    "\n",
    "At first, you and your sister start at the same time so there's a $\\frac{1}{5}$ chance you finish. At everytime other time thereafter you won't be starting at the same time (since that's when you both stop looking at your phone!). First, I want to see if I can assume that at any given point in time when you look up, can you assume that the distribution of times that your sibling will look up is uniform from 0-4. To check this, lets consider the situation right after one of you (whichever is first) looks up but you haven't looked up at the same time yet.\n",
    "\n",
    " - (1) Your first interval was 1 minute. In this case there's an equal probability that your sibiling will look up in 1, 2, 3, or 4 minutes. \n",
    " - (2) Your first interval was 2 minutes. In this case there's an equal probability that your sibiling will look up in 1, 2,"
   ]
  },
  {
   "cell_type": "code",
   "execution_count": null,
   "metadata": {},
   "outputs": [],
   "source": []
  }
 ],
 "metadata": {
  "kernelspec": {
   "display_name": "Python 3.8.9 64-bit",
   "language": "python",
   "name": "python3"
  },
  "language_info": {
   "name": "python",
   "version": "3.8.9"
  },
  "orig_nbformat": 4,
  "vscode": {
   "interpreter": {
    "hash": "31f2aee4e71d21fbe5cf8b01ff0e069b9275f58929596ceb00d14d90e3e16cd6"
   }
  }
 },
 "nbformat": 4,
 "nbformat_minor": 2
}
