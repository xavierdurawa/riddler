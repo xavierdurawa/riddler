{
 "cells": [
  {
   "cell_type": "markdown",
   "metadata": {},
   "source": [
    "# [Can You Fold the Hexagon?](https://thefiddler.substack.com/p/can-you-fold-the-hexagon)\n",
    "## November 22 2024"
   ]
  },
  {
   "cell_type": "markdown",
   "metadata": {},
   "source": [
    "## Problem\n",
    "\n",
    "_Here is a regular hexagon with dotted lines extending from the center to each corner. The sections of the hexagon are labeled 0 to 5 in counterclockwise order. Your goal is to fold up the hexagon into a triangular packet the size of one of its sections._\n",
    "\n",
    "![Hexagon](hexagon.webp)\n",
    "\n",
    "_There are, of course, some rules:_\n",
    "\n",
    "_You can only fold along the dotted lines._\n",
    "\n",
    "_No cutting or tearing is allowed—the hexagon must remain intact at all times._\n",
    "\n",
    "_The final packet must be flat, with the “0” section on top in its original orientation and all the other sections folded behind it._\n",
    "\n",
    "_Using these rules, how many distinct folded-up packets can you generate?_"
   ]
  },
  {
   "cell_type": "markdown",
   "metadata": {},
   "source": [
    "## Solution\n",
    "\n",
    "I'm assuming we don't care about the orientation of the paper (i.e. whether the \"0\" on top is showing the 'top' side or 'bottom' side of the paper). With that in mind, we can think of the the folded paper has a list of the 6 element $0-6$. We care about lists where $0$ is the first element. The tricky part is knowing how many possible lists can be constructed since we can't acheive every possible permutation of 6 elements. \n",
    "\n",
    "**Never Completed**"
   ]
  }
 ],
 "metadata": {
  "language_info": {
   "name": "python"
  }
 },
 "nbformat": 4,
 "nbformat_minor": 2
}
