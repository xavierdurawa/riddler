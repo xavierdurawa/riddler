{
 "cells": [
  {
   "cell_type": "markdown",
   "metadata": {},
   "source": [
    "# [What’s the Area of a “Pseudo-Square”?](https://thefiddler.substack.com/p/whats-the-area-of-a-pseudo-square)\n",
    "## November 1 2024"
   ]
  },
  {
   "cell_type": "markdown",
   "metadata": {},
   "source": [
    "## Problem\n",
    "\n",
    "_A post from Anthony Bonato recently caught Tom’s attention. Here’s the image from that post:_\n",
    "\n",
    "![image](./behold_the_square.png)\n",
    "\n",
    "_Sure enough, the shape (or one very much like it) has four “sides” of equal length, with four right angles. However, two of these sides are curved (in particular, they are arcs of circles), and two of the right angles are exterior, meaning the interior angles measure 270 degrees (rather than the usual 90 degrees)._\n",
    "\n",
    "_Let’s call shapes like this one “pseudo-squares.” A pseudo-square has the following properties:_\n",
    "\n",
    "-_It is a simple, closed curve._\n",
    "\n",
    "-_It has four sides, all the same length._\n",
    "\n",
    "-_Each side is either a straight line segment or the arc of a circle._\n",
    "\n",
    "-_The four sides are joined at four corners, with each corner having an internal angle of 90 degrees or 270 degrees._\n",
    "\n",
    "_The pseudo-square pictured above has two straight sides, which run radially between arcs of two concentric circles._\n",
    "\n",
    "_Assuming this is a unit pseudo-square (i.e., each side has length 1), what is its area?_"
   ]
  },
  {
   "cell_type": "markdown",
   "metadata": {},
   "source": [
    "## Solution\n",
    "\n",
    "There's one important thing we can conlclude from the diagram, namely, the apex of the left [sector](https://en.wikipedia.org/wiki/Circular_sector) is colcated with the apex of the right arc. We know this because the straight line components of the wedge are perpendicular with the left arc, which is also true of the left arc's own radii, so the straigt segments 'extend' the radii of the left arc and imply that their centers' are colocated. \n",
    "\n",
    "![image](./behold_the_square_modified.png)\n",
    "\n",
    "Let's call the radius of the left arc $r$ and the angle of the right arc $\\theta$. With these two values, we can obtain the area.\n",
    "\n",
    "$$ \\theta (1+r) = 1 $$\n",
    "\n",
    "$$ (2 \\pi - \\theta) r = 1 $$\n",
    "\n",
    "Now we just need to solve for $r$ and $\\theta$.\n",
    "\n",
    "$$ (2 \\pi - \\frac{1}{1+r}) r = 1 $$\n",
    "\n",
    "$$ 2 \\pi (r + 1) = 2 + \\frac{1}{r} $$\n",
    "\n",
    "$$ 2 \\pi r (r + 1) = 2r + 1 $$\n",
    "\n",
    "$$ 2 \\pi r^2 + 2 (\\pi - 1) r - 1 = 0 $$\n",
    "\n",
    "Since we are only concerned with the positive root:\n",
    "\n",
    "$$ r = \\frac{1 - \\pi + \\sqrt{1 + \\pi^2}}{2 \\pi} \\approx 0.18387 $$\n",
    "\n",
    "$$ \\theta = \\frac{1}{1 + \\frac{1 - \\pi + \\sqrt{1 + \\pi^2}}{2 \\pi}} = \\frac{2 \\pi}{1 + \\pi + \\sqrt{1 + \\pi^2}} \\approx 0.84468 $$\n",
    "\n",
    "Now the area is:\n",
    "\n",
    "$$ \\pi r^2 \\frac{2 \\pi - \\theta}{2 \\pi} + \\pi (1+r)^2 \\frac{\\theta}{2 \\pi} = \\frac{1}{2} (r^2 (2 \\pi - \\theta) + (1+r)^2 \\theta) = \\frac{1}{2} (r^2 (2 \\pi - \\theta) + \\theta (1+2r+r^2)) $$\n",
    "$$ = \\frac{1}{2} (2 \\pi r^2 + 2r\\theta + \\theta) = \\pi r^2 + r \\theta + \\frac{\\theta}{2} \\approx 0.685584 $$"
   ]
  },
  {
   "cell_type": "markdown",
   "metadata": {},
   "source": [
    "## Extra Credit\n",
    "\n",
    "_Can you find a unit pseudo-square that has three curved sides and just one straight side?_\n",
    "\n",
    "_What is the area of your new unit pseudo-square?_\n",
    "\n",
    "## Solution\n",
    "\n",
    "After a little bit of play around, the only configuration I could seem to come up with that could work is roughly displyed below:\n",
    "\n",
    "![image](./2024-11-01_ec.png)\n",
    "\n",
    "But I coulnd't seem to extablish a viable system of equation worked out. Curious what others came up with. "
   ]
  },
  {
   "cell_type": "markdown",
   "metadata": {},
   "source": []
  }
 ],
 "metadata": {
  "kernelspec": {
   "display_name": "puzzling",
   "language": "python",
   "name": "python3"
  },
  "language_info": {
   "codemirror_mode": {
    "name": "ipython",
    "version": 3
   },
   "file_extension": ".py",
   "mimetype": "text/x-python",
   "name": "python",
   "nbconvert_exporter": "python",
   "pygments_lexer": "ipython3",
   "version": "3.12.5"
  }
 },
 "nbformat": 4,
 "nbformat_minor": 2
}
