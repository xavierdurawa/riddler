{
 "cells": [
  {
   "cell_type": "markdown",
   "metadata": {
    "vscode": {
     "languageId": "plaintext"
    }
   },
   "source": [
    "# [Can You Hop to the Lily Pad)?](https://thefiddler.substack.com/p/can-you-hop-to-the-lily-pad)\n",
    "## January 24 2025"
   ]
  },
  {
   "cell_type": "markdown",
   "metadata": {},
   "source": [
    "## Problem\n",
    "\n",
    "_You are a frog in a pond with four lily pads, marked “1” through “4.” You are currently on pad 2, and your goal is to make it to pad 1. From any given pad, there are specific probabilities that you’ll jump to another pad:_\n",
    "\n",
    "_Once on pad 1, you will happily stay there forever._\n",
    "\n",
    "_From pad 2, there’s a 1-in-2 chance you’ll hop to pad 1, and a 1-in-2 chance you’ll hop to pad 3._\n",
    "\n",
    "_From pad 3, there’s a 1-in-3 chance you’ll hop to pad 2, and a 2-in-3 chance you’ll hop to pad 4._\n",
    "\n",
    "_Once on pad 4, you will unhappily stay there forever._\n",
    "\n",
    "_Given that you are starting on pad 2, what is the probability that you will ultimately make it to pad 1 (as opposed to pad 4)?_"
   ]
  },
  {
   "cell_type": "markdown",
   "metadata": {},
   "source": [
    "## Solution\n",
    "\n",
    "Let's define the probability $P[\\text{getting to pad 1 from pad i}] = p_i$ for $i = 1, 2, 3, 4$. We are interested in finding $p_2$.\n",
    "\n",
    "From the problem statement, we have the following equations:\n",
    "\n",
    "$$\n",
    "\\begin{align*}\n",
    "p_1 &= 1 \\\\\n",
    "p_4 &= 0 \\\\\n",
    "p_2 &= \\frac{1}{2} p_1 + \\frac{1}{2} p_3 \\\\\n",
    "p_3 &= \\frac{1}{3} p_2 + \\frac{2}{3} p_4\n",
    "\\end{align*}\n",
    "$$\n",
    "\n",
    "Substituting $p_3$ from the third equation into the second equation, we get:\n",
    "\n",
    "$$\n",
    "p_2 = \\frac{1}{2} p_1 + \\frac{1}{2} \\left( \\frac{1}{3} p_2 + \\frac{2}{3} p_4 \\right)\n",
    "$$\n",
    "\n",
    "Substituting $p_1 = 1$ and $p_4 = 0$ into the above equation, we get:\n",
    "\n",
    "$$\n",
    "p_2 = \\frac{1}{2} + \\frac{1}{6} p_2\n",
    "$$\n",
    "\n",
    "Solving the above equation, we get $\\boxed{p_2 = \\frac{3}{5}}$."
   ]
  },
  {
   "cell_type": "markdown",
   "metadata": {},
   "source": [
    "## Extra Credit\n",
    "\n",
    "_Once again, you are a frog in a pond. But this time, the pond has infinitely many lily pads, which are numbered “1,” “2,” “3,” etc. As before, you are currently on pad 2, and your goal is to make it to pad 1, which you would happily stay on forever._\n",
    "\n",
    "_Whenever you are on pad k, you will hop to pad k−1 with probability 1/k, and you will hop to pad k+1 with probability (k−1)/k._\n",
    "\n",
    "_Now, what is the probability that you will ultimately make it to pad 1?_"
   ]
  },
  {
   "cell_type": "markdown",
   "metadata": {},
   "source": [
    "## Solution\n",
    "\n",
    "This situation of course get's a lot trickier given that we have an infinite number of lily pads. In fact, I got a bit of help by consulting the derivation of the [gambler's ruin problem](https://www.columbia.edu/~ks20/FE-Notes/4700-07-Notes-GR.pdf). Let's again define the probability $P[\\text{getting to pad 1 from pad i}] = P_i$ for $i = 1, 2, 3, \\ldots$. We are interested in finding $P_2$.\n",
    "\n",
    "We have the following recurrence relation:\n",
    "\n",
    "$$\n",
    "P_k = \\frac{1}{k} P_{k-1} + \\frac{k-1}{k} P_{k+1}\n",
    "$$\n",
    "\n",
    "This can be written as:\n",
    "\n",
    "$$\n",
    "\\frac{1}{k} P_{k} + \\frac{k-1}{k} P_{k} = \\frac{1}{k} P_{k-1} + \\frac{k-1}{k} P_{k+1} \\\\\n",
    "\\frac{k-1}{k} (P_{k+1} - P_{k}) = \\frac{1}{k} (P_{k} - P_{k-1}) \\\\\n",
    "P_{k+1} - P_{k} = \\frac{1}{k-1} (P_{k} - P_{k-1})\n",
    "$$\n",
    "\n",
    "Iterating this equation k-1 times and noting that $P_1=1$ we get:\n",
    "\n",
    "$$\n",
    "P_{k+1} - P_{k} = \\frac{1}{(k-1)!} (P_2 - P_{1}) = \\frac{1}{(k-1)!} (P_2 - 1)\n",
    "$$\n",
    "\n",
    "We will also note that\n",
    "\n",
    "$$\n",
    "P_{k+1} - P_2 = \\sum_{i=2}^{k} (P_{i+1} - P_i) = P_{k+1} - P_k = \\sum_{i=2}^{k} \\frac{1}{(i-1)!} (P_2 - 1)\n",
    "$$\n",
    "\n",
    "$$\n",
    "P_{k+1} = P_2 + (P_2 - 1) \\sum_{i=2}^{k} \\frac{1}{(i-1)!}\n",
    "$$\n",
    "\n",
    "But this is only well defined for $k \\geq 2$ so how do we proceed? Let's attempt to use our second boundary equation, namely, as $k \\to \\infty$ we have $P_{k+1} \\to 0$. This gives us:\n",
    "\n",
    "$$\n",
    "0 = P_2 + (P_2 - 1) \\sum_{i=2}^{\\infty} \\frac{1}{(i-1)!}\n",
    "$$\n",
    "\n",
    "$$\n",
    "0 = P_2 + (P_2 - 1) (e - 1) = P_2 + (P_2 - 1) e - (P_2 - 1) = e P_2 - e + 1 \\\\\n",
    "\\implies P_2 = 1 - \\frac{1}{e} \\approx .6321\n",
    "$$"
   ]
  }
 ],
 "metadata": {
  "language_info": {
   "name": "python"
  }
 },
 "nbformat": 4,
 "nbformat_minor": 2
}
