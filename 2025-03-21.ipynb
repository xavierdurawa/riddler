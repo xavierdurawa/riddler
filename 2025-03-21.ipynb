{
 "cells": [
  {
   "cell_type": "markdown",
   "metadata": {},
   "source": [
    "# [Can You Play the Favorite?](https://thefiddler.substack.com/p/can-you-play-the-favorite)\n",
    "## March 21 2025"
   ]
  },
  {
   "cell_type": "markdown",
   "metadata": {},
   "source": [
    "## Problem\n",
    "\n",
    "_March Madness—the NCAA basketball tournament—is here!_\n",
    "\n",
    "_The single-elimination tournament consists of 64 teams spread across four regions, each with teams seeded 1 through 16. (In recent years, additional teams beyond the 64 have been added, but you needn’t worry about these teams for this week’s puzzle.)_\n",
    "\n",
    "_Suppose in any matchup between teams with seeds M and N, the M-seed wins with probability N/(M+N), while the N-seed wins with probability M/(M+N). For example, if a 3-seed plays a 5-seed, then the 3-seed wins with probability 5/8, while the 5-seed wins with probability 3/8._\n",
    "\n",
    "_In one of the brackets, the top four seeds remain (i.e., the 1-seed, the 2-seed, the 3-seed, and the 4-seed). If case you’re not familiar with how such brackets work, at this point the 1-seed and 4-seed face off, as do the 2-seed and 3-seed. The winners then play each other._\n",
    "\n",
    "_What is the probability that the 1-seed will emerge victorious from this region?_"
   ]
  },
  {
   "cell_type": "markdown",
   "metadata": {},
   "source": [
    "## Solution\n",
    "\n",
    "I can't tell if there's a cleaner way to do this but effectively we can just generate a lengthy expression for the probability of the 1 seed winning"
   ]
  }
 ],
 "metadata": {
  "language_info": {
   "name": "python"
  }
 },
 "nbformat": 4,
 "nbformat_minor": 2
}
