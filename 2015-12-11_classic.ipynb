{
 "cells": [
  {
   "cell_type": "markdown",
   "metadata": {},
   "source": [
    "# [What’s The Best Way To Drop A Smartphone?](https://fivethirtyeight.com/features/whats-the-best-way-to-drop-a-smartphone/)\n",
    "## Dec 11 2015"
   ]
  },
  {
   "cell_type": "markdown",
   "metadata": {},
   "source": [
    "# Problem\n",
    " _You work for a tech firm developing the newest smartphone that supposedly can survive falls from great heights. Your firm wants to advertise the maximum height from which the phone can be dropped without breaking._\n",
    "\n",
    "_You are given two of the smartphones and access to a 100-story tower from which you can drop either phone from whatever story you want. If it doesn’t break when it falls, you can retrieve it and use it for future drops. But if it breaks, you don’t get a replacement phone._\n",
    "\n",
    "_Using the two phones, what is the minimum number of drops you need to ensure that you can determine exactly the highest story from which a dropped phone does not break? (Assume you know that it breaks when dropped from the very top.) What if, instead, the tower were 1,000 stories high?_"
   ]
  },
  {
   "cell_type": "markdown",
   "metadata": {},
   "source": [
    "# Solution\n",
    "\n",
    "Image we move up the floors of the building at some interval. If the phone breaks, we simply go back to the last floor the phone was successfully dropped and then try each subsequent floor until we find the breaking point. This should get us the exact floor each time. But how large should the interval be/how many should there be? in other words, which set of floors should we dropping in the first phase of our strategy? We want the number of drops needed to be the same for each interval otherwise the minimum will be dictated by the interval that requires the largest number of drops. So for each subsequent interval, we need to account for the fact that an additional drop will have been performed to get the that interval. If $i$ represents a particular interval and $l_i$ is length of that interval, we have the following relation:\n",
    "\n",
    "$$ l_i = l_{i-1} - 1 $$\n",
    "\n",
    "We don't know what the interval should start at (i.e. $l_1$) and it needs to conform to our limit of 100.  Let $l_1 = c$. Then we have\n",
    "\n",
    "$$ c + (c - 1) + (c-2) + ... + (c-n) = 99 $$\n",
    "\n",
    "Intuitively, $c$ represent the number of steps we'll need to take once we've identified our interval so we'd like to find a $n$ that minimizes $c$.\n",
    "\n",
    "$$ c(n+1) - (1+2+...+n) = 100 $$\n",
    "\n",
    "This is the same as maximizing n subject to c still being an integer\n",
    "\n",
    "$$ c(n+1) - \\frac{n(n+1)}{2} = 100 $$\n",
    "\n",
    "$$ (c-\\frac{n}{2})(n+1) = 100 $$\n",
    "\n",
    "Now is this optimal? "
   ]
  },
  {
   "cell_type": "code",
   "execution_count": 37,
   "metadata": {},
   "outputs": [
    {
     "name": "stdout",
     "output_type": "stream",
     "text": [
      "14.0\n"
     ]
    }
   ],
   "source": [
    "import math\n",
    "t = 99\n",
    "min_c = float('inf')\n",
    "for n in range(0,t//2):\n",
    "    a = (t+n*(n+1)/2)/(n+1)\n",
    "    if a == int(a) and a < min_c:\n",
    "        min_c = a\n",
    "print(min_c)"
   ]
  }
 ],
 "metadata": {
  "kernelspec": {
   "display_name": "Python 3.8.9 64-bit",
   "language": "python",
   "name": "python3"
  },
  "language_info": {
   "codemirror_mode": {
    "name": "ipython",
    "version": 3
   },
   "file_extension": ".py",
   "mimetype": "text/x-python",
   "name": "python",
   "nbconvert_exporter": "python",
   "pygments_lexer": "ipython3",
   "version": "3.8.9"
  },
  "orig_nbformat": 4,
  "vscode": {
   "interpreter": {
    "hash": "31f2aee4e71d21fbe5cf8b01ff0e069b9275f58929596ceb00d14d90e3e16cd6"
   }
  }
 },
 "nbformat": 4,
 "nbformat_minor": 2
}
