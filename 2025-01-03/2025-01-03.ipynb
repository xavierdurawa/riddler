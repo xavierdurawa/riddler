{
 "cells": [
  {
   "cell_type": "markdown",
   "metadata": {},
   "source": [
    "# [Can You Squeeze the Sheets??](https://thefiddler.substack.com/p/can-you-squeeze-the-sheets)\n",
    "## January 3 2025"
   ]
  },
  {
   "cell_type": "markdown",
   "metadata": {},
   "source": [
    "## Problem \n",
    "\n",
    "_Two large planar sheets have parallel semicircular cylindrical ridges with radius 1. Neighboring ridges are separated by a distance L ≥ 2. The sheets are placed so that the ridges extrude toward each other, and so that the sheets cannot shift relative to each other in the horizontal direction, as shown in the cross-section below:_\n",
    "\n",
    "![](./original.webp)\n",
    "\n",
    "_Which value of L (again, that’s the spacing between ridges) maximizes the empty space between the sheets?_\n",
    "\n",
    "_To be clear, you are maximizing the volume of empty space per unit area of one flat sheet. In the cross-section shown above, that’s equivalent to maximizing the area of empty space per unit length of one flat sheet._"
   ]
  },
  {
   "cell_type": "markdown",
   "metadata": {},
   "source": [
    "## Solution\n",
    "\n",
    "To make this problem a bit easier, we can make a few observations. (1) the horizontal distance between the center of a blue cylinder and the center of the nearest red cylinder is $\\frac{L}{2}$ (and vice versa). (2) By symmetry, the horizontal distance between the center of a blue cylinder and the point at which that cylinder touches the red cylinder is $\\frac{L}{4}$. Below is a crude image to help illustrate.\n",
    "\n",
    "![](./solution.png)\n",
    "\n",
    "Using these facts, we can model the area of empty space between the sheets as follows:\n",
    "\n",
    "$$\n",
    "A(L) = \\frac{L}{2} \\cdot h(L) - \\frac{\\pi}{2}\n",
    "$$\n",
    "where $h(L)$ is the verticlal distance between the sheets. To find $h(L)$, we can use the fact that point where the cylinders tough is a horizontal distance of $\\frac{L}{4}$ from the center of either cylinder and is at a vertical distance of #\\frac{h(L)}{2}$.\n",
    "\n",
    "$$\n",
    "1 = x^2 + y^2 \\implies 1 = \\left(\\frac{L}{4}\\right)^2 + \\left(\\frac{h(L)}{2}\\right)^2\n",
    "$$\n",
    "\n",
    "$$\n",
    "\\implies h(L) = 2 \\sqrt{1 - \\left(\\frac{L}{4}\\right)^2}\n",
    "$$\n",
    "\n",
    "Plugging this back into the equation for $A(L)$, we get\n",
    "\n",
    "$$\n",
    "A(L) = L \\sqrt{1 - \\left(\\frac{L}{4}\\right)^2} - \\frac{\\pi}{2}\n",
    "$$\n",
    "\n",
    "To maximize this, we can take the derivative of the ratio of the area and the length $L$ and set it equal to zero.\n",
    "\n",
    "$$\n",
    "\\frac{d}{dL} \\left( \\frac{A(L)}{L} \\right) = \\frac{\\pi}{2L^2} - \\frac{L}{4\\sqrt{16 - L^2}} = 0\n",
    "$$\n",
    "\n",
    "Sparing the algebra, we find that $L \\approx 2.6581$. But we should check that this is a maximum. To do this, we can observe the graph below and verity that $L = L \\approx 2.6581$ is indeed a maximum.\n"
   ]
  },
  {
   "cell_type": "code",
   "execution_count": 8,
   "metadata": {},
   "outputs": [
    {
     "data": {
      "image/png": "[encoded data removed]",
      "text/plain": [
       "<Figure size 640x480 with 1 Axes>"
      ]
     },
     "metadata": {},
     "output_type": "display_data"
    }
   ],
   "source": [
    "from matplotlib import pyplot as plt\n",
    "\n",
    "# plot L \\sqrt{1 - \\left(\\frac{L}{4}\\right)^2} - \\frac{\\pi}{2}\n",
    "def f(L):\n",
    "    return (L * (1 - (L / 4) ** 2) ** 0.5 - 3.141592653589793 / 2)/L\n",
    "\n",
    "L = [i / 100 for i in range(100, 400)]\n",
    "plt.plot(L, [f(l) for l in L])\n",
    "plt.axhline(0, color='black')\n",
    "plt.axvline(0, color='black')\n",
    "plt.xlim(0, 4)\n",
    "plt.ylim(-1, 1)\n",
    "plt.xlabel('L')\n",
    "plt.ylabel('f(L)')\n",
    "plt.title(r'$\\frac{L \\sqrt{1 - \\left(\\frac{L}{4}\\right)^2} - \\frac{\\pi}{2}}{L}$')\n",
    "\n",
    "plt.show()"
   ]
  },
  {
   "cell_type": "markdown",
   "metadata": {},
   "source": [
    "Finally, to get our answer, we plug $L = 2.6581$ back into the equation for $A(L)/L$ to get:\n",
    "\n",
    "$$\n",
    "\\frac{A(2.6581)}{2.6581} = \\sqrt{1 - \\left(\\frac{2.6581}{4}\\right)^2} - \\frac{\\pi}{5.3162} \\approx 0.1563\n",
    "$$\n",
    "\n",
    "So roughly $15.63\\%$ of the area of one sheet is empty space."
   ]
  },
  {
   "cell_type": "markdown",
   "metadata": {},
   "source": [
    "## Extra Credit\n",
    "\n",
    "_Instead of cylindrical ridges, now suppose the sheets have any number (greater than zero) of hemispherical deformations with radius 1 that extrude toward each other. This time, the sheets need not be the same as each other._\n",
    "\n",
    "_As before, the distance between the centers of any two deformations on the same sheet must be at least 2. What is the minimum empty space, again expressed as volume per unit area of one flat sheet?_"
   ]
  },
  {
   "cell_type": "markdown",
   "metadata": {},
   "source": [
    "## Extra Credit Solution\n",
    "\n",
    "I have no idea how to verify the particular configuration that minimized the empty space but I'm going to conjecture that it's the same configuration that minimizes the empty space in a standard sqhere packing problem in 3D. In this case, the configuration starts as a hexagonal packing of the spheres (except that we may permit some space between adjecent spheres in this case), and then in the middle of each triangle formed by three adjecent spheres, you stack a sphere on top. In this way, you can construct another layer, which is also hexagonally packed. With that, let's find an expression for the volume of empty space and minimize it.\n",
    "\n",
    "$$\n",
    "V_{prism}(L) = \\frac{L}{2} \\cdot \\frac{L \\sqrt{3}}{2} \\cdot h(L) = \\frac{L^2 \\sqrt{3}}{4} \\cdot h(L)\n",
    "$$\n",
    "\n",
    "The triangle would include 3 $\\frac{1}{6}$ sections of each hemisphere on the lower sheet and the entire hemisphere on the upper sheet.\n",
    "$$\n",
    "V_{fill} = \\frac{1}{2} \\left[ 3 \\cdot \\frac{1}{6} \\cdot \\frac{4\\pi}{3} + \\frac{4\\pi}{3} \\right] = \\pi\n",
    "$$\n",
    "\n",
    "$$\n",
    "V_{empty}(L) = V_{prism}(L) - V_{fill} = \\frac{L^2 \\sqrt{3}}{4} \\cdot h(L) - \\pi\n",
    "$$\n",
    "\n",
    "Now we just need to compute the value $h(L)$. We know that the top hemisphere's centroid coincides with the middle of the triangle, which would be a distance $\\frac{L}{\\sqrt{3}}$ from any corner of the triangle. Additionally, the point of contact between the top hemisphere and the lower hemispheres should be along the plane of the triangular prism formed by the centroid meeting the corners of the triangle. Employing the same logic as the first part, we can then deduce that the distance along this plane (between the centroid and corner) where the two spheres meet is half of the distance between the centroid and corner. This gives us the following equation:\n",
    "\n",
    "$$\n",
    "1 = x^2 + y^2 \\implies 1 = \\left(\\frac{L}{2\\sqrt{3}}\\right)^2 + \\left(\\frac{h(L)}{2}\\right)^2\n",
    "$$\n",
    "\n",
    "$$\n",
    "\\implies h(L) = 2 \\sqrt{1 - \\left(\\frac{L}{2\\sqrt{3}}\\right)^2} = \\sqrt{4 - \\frac{L^2}{3}}\n",
    "$$\n",
    "\n",
    "Plugging this back into the equation for $V_{empty}(L)$, we get\n",
    "\n",
    "$$\n",
    "V_{empty}(L) = \\frac{L^2 \\sqrt{3}}{4} \\cdot \\sqrt{4 - \\frac{L^2}{3}} - \\pi\n",
    "$$\n",
    "\n",
    "Recall we want to minimize the ratio of the volume of empty space to the area of one sheet. We can write this as\n",
    "\n",
    "$$\n",
    "\\frac{V_{empty}(L)}{A(L)} = \\sqrt{4 - \\frac{L^2}{3}} - \\frac{4 \\pi}{L^2 \\sqrt{3}}\n",
    "$$\n",
    "\n",
    "Then we just take the derivative and set it equal to zero.\n",
    "\n",
    "$$\n",
    "\\frac{d}{dL} \\left( \\sqrt{4 - \\frac{L^2}{3}} - \\frac{4 \\pi}{L^2 \\sqrt{3}} \\right) = 0\n",
    "$$\n",
    "\n",
    "$$\n",
    "\\implies \\frac{8 \\pi}{\\sqrt{3} L^3} - \\frac{L}{\\sqrt{36 - 3L^2}} = 0\n",
    "$$\n",
    "\n",
    "I dodn't bother trying to solve this analytically and I'm not sure it's worth it given that the equation can't be reduced to anything simplier than a quartic equation. Instead, I'll just plug it into a computer and find that the only valid solution is $L \\approx 2.7126$, which is strangely close to $e$ but I'm not sure if that's relevant.\n",
    "\n",
    "Plugging this back into our ration of empty space to sheet area, we find that the minimum value is \n",
    "\n",
    "$$\n",
    "\\sqrt{4 - \\frac{2.7126^2}{3}} - \\frac{4 \\pi}{2.7126^2 \\sqrt{3}} \\approx 0.2579\n",
    "$$ \n",
    "\n",
    "suggesting that the minimum fraction of empty space is about 25.79%."
   ]
  }
 ],
 "metadata": {
  "kernelspec": {
   "display_name": "puzzling",
   "language": "python",
   "name": "python3"
  },
  "language_info": {
   "codemirror_mode": {
    "name": "ipython",
    "version": 3
   },
   "file_extension": ".py",
   "mimetype": "text/x-python",
   "name": "python",
   "nbconvert_exporter": "python",
   "pygments_lexer": "ipython3",
   "version": "3.12.5"
  }
 },
 "nbformat": 4,
 "nbformat_minor": 2
}
